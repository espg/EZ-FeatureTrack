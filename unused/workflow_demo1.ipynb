{
 "cells": [
  {
   "cell_type": "code",
   "execution_count": 1,
   "id": "downtown-minnesota",
   "metadata": {},
   "outputs": [],
   "source": [
    "import os\n",
    "os.environ['GDAL_SKIP'] = 'DODS'\n",
    "\n",
    "# from ipyleaflet import Map, basemaps, basemap_to_tiles, DrawControl\n",
    "import ipyleaflet as ilfl\n",
    "import ipywidgets as iwg\n",
    "# from ipywidgets import GridspecLayout, AppLayout, VBox, HBox, HTML, Label\n",
    "\n",
    "import pandas as pd\n",
    "import geopandas as gpd\n",
    "import numpy as np\n",
    "from shapely.geometry import Point, Polygon, MultiPolygon\n",
    "from sklearn.neighbors import BallTree\n"
   ]
  },
  {
   "cell_type": "code",
   "execution_count": 2,
   "id": "chicken-carpet",
   "metadata": {},
   "outputs": [
    {
     "data": {
      "application/vnd.jupyter.widget-view+json": {
       "model_id": "c274c24b348541e7a44e146528021280",
       "version_major": 2,
       "version_minor": 0
      },
      "text/plain": [
       "AppLayout(children=(HTML(value='<h2>Drag the marker to your region of interest</h1>', layout=Layout(grid_area=…"
      ]
     },
     "metadata": {},
     "output_type": "display_data"
    }
   ],
   "source": [
    "# Adapted from Alice's AGU talk\n",
    "\n",
    "center = [65.73, -50.71]\n",
    "zoom = 4\n",
    "mainmap = ilfl.Map(basemap=ilfl.basemaps.Gaode.Satellite, center=center, zoom=zoom)\n",
    "\n",
    "# # global dc, start, end, file, lon_l, lat_l, lon_r, lat_r\n",
    "\n",
    "# # Pick date\n",
    "# start = widgets.DatePicker(disabled=False)\n",
    "# end = widgets.DatePicker(disabled=False)\n",
    "\n",
    "# # Select from map\n",
    "# dc = DrawControl(rectangle={'shapeOptions': {'color': '#0000FF'}}, \n",
    "#                  polyline={}, polygon={}, circlemarker={})\n",
    "# m.add_control(dc)\n",
    "# dc = ilfl.DrawControl()\n",
    "# mainmap.add_control(dc)\n",
    "\n",
    "mker = ilfl.Marker(location=center, draggable=True)\n",
    "mainmap.add_layer(mker)\n",
    "\n",
    "# # Shapefile\n",
    "# file = widgets.FileUpload(accept='.shp', multiple=False)\n",
    "\n",
    "# # Bounding box\n",
    "# lon_l = widgets.FloatText(description=\"lon\")\n",
    "# lat_l = widgets.FloatText(description=\"lat\")\n",
    "# lon_r = widgets.FloatText(description=\"lon\")\n",
    "# lat_r = widgets.FloatText(description=\"lat\")\n",
    "\n",
    "iwg.AppLayout(header=iwg.HTML(\"<h2>Drag the marker to your region of interest</h1>\"), center=mainmap)\n",
    "\n",
    "# return(AppLayout(header = VBox([HTML(\"<h1>Select area (time and space)</h1>\"),\n",
    "#                      HBox([Label(\"Start Date:\"), start, \n",
    "#                            Label(\"End Date:\"), end])]),\n",
    "#                  center = m,\n",
    "#                  right_sidebar = VBox([HTML(\"<h3>or upload shapefile<h3>\"), file, HTML(\"<h3> <h3>\"), HTML(\"<h3>or bounding box<h3>\"), \n",
    "#                          Label(\"Bottom-left corner\"), lon_l, lat_l, Label(\"Upper-right corner\"), lon_r, lat_r])))"
   ]
  },
  {
   "cell_type": "code",
   "execution_count": 4,
   "id": "wrapped-station",
   "metadata": {},
   "outputs": [
    {
     "data": {
      "text/plain": [
       "[-50.185546875, 69.06856318696033]"
      ]
     },
     "execution_count": 4,
     "metadata": {},
     "output_type": "execute_result"
    }
   ],
   "source": [
    "query_pt = [mker.location[-1], mker.location[0]]\n",
    "query_pt"
   ]
  },
  {
   "cell_type": "code",
   "execution_count": 5,
   "id": "blessed-drive",
   "metadata": {},
   "outputs": [],
   "source": [
    "def check_crossing(lon_list):\n",
    "    \"\"\"\n",
    "    Checks if the antimeridian is crossed.\n",
    "    \"\"\"\n",
    "    import itertools\n",
    "    return any(abs(pair[0] - pair[1]) > 180.0 for pair in itertools.combinations(lon_list, 2))"
   ]
  },
  {
   "cell_type": "code",
   "execution_count": 6,
   "id": "unauthorized-brook",
   "metadata": {},
   "outputs": [
    {
     "data": {
      "text/html": [
       "<div>\n",
       "<style scoped>\n",
       "    .dataframe tbody tr th:only-of-type {\n",
       "        vertical-align: middle;\n",
       "    }\n",
       "\n",
       "    .dataframe tbody tr th {\n",
       "        vertical-align: top;\n",
       "    }\n",
       "\n",
       "    .dataframe thead th {\n",
       "        text-align: right;\n",
       "    }\n",
       "</style>\n",
       "<table border=\"1\" class=\"dataframe\">\n",
       "  <thead>\n",
       "    <tr style=\"text-align: right;\">\n",
       "      <th></th>\n",
       "      <th>path</th>\n",
       "      <th>row</th>\n",
       "      <th>lat_CTR</th>\n",
       "      <th>lon_CTR</th>\n",
       "      <th>geometry</th>\n",
       "    </tr>\n",
       "  </thead>\n",
       "  <tbody>\n",
       "    <tr>\n",
       "      <th>0</th>\n",
       "      <td>1</td>\n",
       "      <td>1</td>\n",
       "      <td>80.774791</td>\n",
       "      <td>3.210620</td>\n",
       "      <td>POLYGON ((5.42400 81.92300, 9.94700 80.30700, ...</td>\n",
       "    </tr>\n",
       "    <tr>\n",
       "      <th>1</th>\n",
       "      <td>1</td>\n",
       "      <td>2</td>\n",
       "      <td>80.021757</td>\n",
       "      <td>-4.274059</td>\n",
       "      <td>POLYGON ((-3.20700 81.20300, 2.30700 79.69900,...</td>\n",
       "    </tr>\n",
       "    <tr>\n",
       "      <th>2</th>\n",
       "      <td>1</td>\n",
       "      <td>3</td>\n",
       "      <td>79.129883</td>\n",
       "      <td>-10.647337</td>\n",
       "      <td>POLYGON ((-10.43200 80.32200, -4.40400 78.9360...</td>\n",
       "    </tr>\n",
       "    <tr>\n",
       "      <th>3</th>\n",
       "      <td>1</td>\n",
       "      <td>4</td>\n",
       "      <td>78.130377</td>\n",
       "      <td>-16.029408</td>\n",
       "      <td>POLYGON ((-16.40900 79.32000, -10.20700 78.048...</td>\n",
       "    </tr>\n",
       "    <tr>\n",
       "      <th>4</th>\n",
       "      <td>1</td>\n",
       "      <td>5</td>\n",
       "      <td>77.048078</td>\n",
       "      <td>-20.572231</td>\n",
       "      <td>POLYGON ((-21.35100 78.22700, -15.19300 77.061...</td>\n",
       "    </tr>\n",
       "    <tr>\n",
       "      <th>...</th>\n",
       "      <td>...</td>\n",
       "      <td>...</td>\n",
       "      <td>...</td>\n",
       "      <td>...</td>\n",
       "      <td>...</td>\n",
       "    </tr>\n",
       "    <tr>\n",
       "      <th>57778</th>\n",
       "      <td>233</td>\n",
       "      <td>244</td>\n",
       "      <td>81.352691</td>\n",
       "      <td>28.155956</td>\n",
       "      <td>POLYGON ((35.64600 81.84800, 30.97900 80.24500...</td>\n",
       "    </tr>\n",
       "    <tr>\n",
       "      <th>57779</th>\n",
       "      <td>233</td>\n",
       "      <td>245</td>\n",
       "      <td>81.718750</td>\n",
       "      <td>18.566867</td>\n",
       "      <td>POLYGON ((25.77700 82.38700, 22.59000 80.69100...</td>\n",
       "    </tr>\n",
       "    <tr>\n",
       "      <th>57780</th>\n",
       "      <td>233</td>\n",
       "      <td>246</td>\n",
       "      <td>81.844418</td>\n",
       "      <td>8.404287</td>\n",
       "      <td>POLYGON ((14.79400 82.68000, 13.57600 80.92900...</td>\n",
       "    </tr>\n",
       "    <tr>\n",
       "      <th>57781</th>\n",
       "      <td>233</td>\n",
       "      <td>247</td>\n",
       "      <td>81.718750</td>\n",
       "      <td>-1.758293</td>\n",
       "      <td>POLYGON ((3.34700 82.69600, 4.31400 80.94200, ...</td>\n",
       "    </tr>\n",
       "    <tr>\n",
       "      <th>57782</th>\n",
       "      <td>233</td>\n",
       "      <td>248</td>\n",
       "      <td>81.352691</td>\n",
       "      <td>-11.347382</td>\n",
       "      <td>POLYGON ((-7.73000 82.43500, -4.75100 80.73000...</td>\n",
       "    </tr>\n",
       "  </tbody>\n",
       "</table>\n",
       "<p>57783 rows × 5 columns</p>\n",
       "</div>"
      ],
      "text/plain": [
       "       path  row    lat_CTR    lon_CTR  \\\n",
       "0         1    1  80.774791   3.210620   \n",
       "1         1    2  80.021757  -4.274059   \n",
       "2         1    3  79.129883 -10.647337   \n",
       "3         1    4  78.130377 -16.029408   \n",
       "4         1    5  77.048078 -20.572231   \n",
       "...     ...  ...        ...        ...   \n",
       "57778   233  244  81.352691  28.155956   \n",
       "57779   233  245  81.718750  18.566867   \n",
       "57780   233  246  81.844418   8.404287   \n",
       "57781   233  247  81.718750  -1.758293   \n",
       "57782   233  248  81.352691 -11.347382   \n",
       "\n",
       "                                                geometry  \n",
       "0      POLYGON ((5.42400 81.92300, 9.94700 80.30700, ...  \n",
       "1      POLYGON ((-3.20700 81.20300, 2.30700 79.69900,...  \n",
       "2      POLYGON ((-10.43200 80.32200, -4.40400 78.9360...  \n",
       "3      POLYGON ((-16.40900 79.32000, -10.20700 78.048...  \n",
       "4      POLYGON ((-21.35100 78.22700, -15.19300 77.061...  \n",
       "...                                                  ...  \n",
       "57778  POLYGON ((35.64600 81.84800, 30.97900 80.24500...  \n",
       "57779  POLYGON ((25.77700 82.38700, 22.59000 80.69100...  \n",
       "57780  POLYGON ((14.79400 82.68000, 13.57600 80.92900...  \n",
       "57781  POLYGON ((3.34700 82.69600, 4.31400 80.94200, ...  \n",
       "57782  POLYGON ((-7.73000 82.43500, -4.75100 80.73000...  \n",
       "\n",
       "[57783 rows x 5 columns]"
      ]
     },
     "execution_count": 6,
     "metadata": {},
     "output_type": "execute_result"
    }
   ],
   "source": [
    "ls8 = pd.read_excel('./LS8_cornerPts.xlsx')\n",
    "\n",
    "geometry_collection = []\n",
    "    \n",
    "for index, row in ls8.iterrows():\n",
    "    lon_list = [row.lon_UL, row.lon_UR, row.lon_LR, row.lon_LL]\n",
    "    if check_crossing(lon_list):\n",
    "        set1 = [x % 360.0 for x in lon_list]\n",
    "        set2 = [x % -360.0 for x in lon_list]\n",
    "        poly1 = Polygon([(set1[0], row.lat_UL), (set1[1], row.lat_UR), (set1[2], row.lat_LR), (set1[3], row.lat_LL)])\n",
    "        poly2 = Polygon([(set2[0], row.lat_UL), (set2[1], row.lat_UR), (set2[2], row.lat_LR), (set2[3], row.lat_LL)])\n",
    "        feature_geometry = MultiPolygon([poly1, poly2])\n",
    "    else:\n",
    "        feature_geometry = Polygon([(row.lon_UL, row.lat_UL), (row.lon_UR, row.lat_UR), (row.lon_LR, row.lat_LR), (row.lon_LL, row.lat_LL)])\n",
    "        \n",
    "    geometry_collection.append(feature_geometry)\n",
    "    \n",
    "ls8_gdf = gpd.GeoDataFrame(ls8, geometry=geometry_collection)\n",
    "\n",
    "ls8_gdf = ls8_gdf.drop(['lat_UL', 'lon_UL', 'lat_UR', 'lon_UR', 'lat_LL', 'lon_LL', 'lat_LR', 'lon_LR'], axis=1)\n",
    "ls8_gdf"
   ]
  },
  {
   "cell_type": "code",
   "execution_count": 7,
   "id": "threaded-estonia",
   "metadata": {},
   "outputs": [
    {
     "name": "stdout",
     "output_type": "stream",
     "text": [
      "[array([21308,  1501, 21060,  1253, 20073, 20815, 21062,  2737, 21309,\n",
      "         2490,  2243, 20320,  1996,  1748, 20814,  2984,  2242,  1995,\n",
      "        20567, 21061, 19825,  3231, 19330,  2488,  2241, 20566,  1746,\n",
      "         1500, 20319,  1252,  2736, 20071, 20072, 19824,  2489,  1499,\n",
      "         1747,  1994, 19577, 20318, 20565, 20813])                    ]\n"
     ]
    }
   ],
   "source": [
    "def lquery(point_geometry, polygon_data):\n",
    "    # points_geometry: 2-element list showing [lon, lat]\n",
    "    # points: a N-by-2 numpy array. 1st column: lon; 2nd coulmn: lat\n",
    "    # Adapted from Shane's GeoStack\n",
    "    points = np.vstack((polygon_data.lon_CTR.values, polygon_data.lat_CTR.values)).T\n",
    "    points *= np.pi/180.\n",
    "    LSBall = BallTree(points, metric='haversine')\n",
    "    \n",
    "    q = np.array(point_geometry)\n",
    "    q *= np.pi/180.\n",
    "    \n",
    "    # idx = LSBall.query(q.reshape(1,-1),k=1,return_distance=False,breadth_first=True)\n",
    "    idx = LSBall.query_radius(q.reshape(1,-1), r=0.05, return_distance=False)\n",
    "    # path = int(ls8.path.iloc[idx.flatten()].values)\n",
    "    # row = int(ls8.row.iloc[idx.flatten()].values)\n",
    "    print(idx)\n",
    "    # return path, row\n",
    "    \n",
    "lquery(query_pt, ls8_gdf)"
   ]
  },
  {
   "cell_type": "code",
   "execution_count": 8,
   "id": "psychological-horizontal",
   "metadata": {},
   "outputs": [],
   "source": [
    "def lquery_alt(point_geometry, polygon_data):\n",
    "    # points_geometry: a shapely.geometry.Point object or a 2-element list showing [lon, lat]\n",
    "    # polygon_data: the LS8 GeoDataFrame object\n",
    "    # return: print P/R\n",
    "\n",
    "    if type(point_geometry) is Point:\n",
    "        pt = point_geometry\n",
    "    else:\n",
    "        pt = Point(point_geometry)\n",
    "\n",
    "    for idx, row in polygon_data.iterrows():\n",
    "        if pt.within(row.geometry):\n",
    "            print(idx, row.path, row.row)\n",
    "            \n",
    "# llquery_alt(Point([np.random.sample()*180, np.random.sample()*88]), ls8_gdf)query_alt(query_pt, ls8_gdf)"
   ]
  },
  {
   "cell_type": "code",
   "execution_count": 8,
   "id": "refined-gregory",
   "metadata": {},
   "outputs": [],
   "source": [
    "# %%timeit\n",
    "# lquery_alt(Point([np.random.sample()*180, np.random.sample()*88]), ls8_gdf)"
   ]
  },
  {
   "cell_type": "code",
   "execution_count": 9,
   "id": "fourth-budapest",
   "metadata": {},
   "outputs": [],
   "source": [
    "def lquery_combined(point_geometry, polygon_data):\n",
    "    # points_geometry: 2-element list showing [lon, lat]\n",
    "    # polygon_data: the LS8 GeoDataFrame object\n",
    "    points = np.vstack((polygon_data.lon_CTR.values, polygon_data.lat_CTR.values)).T\n",
    "    points *= np.pi/180.\n",
    "    LSBall = BallTree(points, metric='haversine')\n",
    "    \n",
    "    q = np.array(point_geometry)\n",
    "    q *= np.pi/180.\n",
    "    if type(point_geometry) is Point:\n",
    "        pt = point_geometry\n",
    "    else:\n",
    "        pt = Point(point_geometry)\n",
    "    \n",
    "    # idx = LSBall.query(q.reshape(1,-1),k=1,return_distance=False,breadth_first=True)\n",
    "    pre_selection = LSBall.query_radius(q.reshape(1,-1), r=0.05, return_distance=False)\n",
    "    # path = int(ls8.path.iloc[idx.flatten()].values)\n",
    "    # row = int(ls8.row.iloc[idx.flatten()].values)\n",
    "    pre_selection_idx = pre_selection[0]\n",
    "    pre_selection_idx.sort()\n",
    "    \n",
    "    polygon_pre_selection = polygon_data.loc[pre_selection_idx]\n",
    "    \n",
    "    selection_idx = []\n",
    "    for idx, row in polygon_pre_selection.iterrows():\n",
    "        if pt.within(row.geometry):\n",
    "            selection_idx.append(idx)\n",
    "            # print(idx, row.path, row.row)\n",
    "    \n",
    "    return selection_idx\n",
    "    # return gdf_idx\n",
    "    # print(idx.flatten())\n",
    "    # print(polygon_data.loc[gdf_idx])\n",
    "    # return path, row"
   ]
  },
  {
   "cell_type": "code",
   "execution_count": 10,
   "id": "floating-tobacco",
   "metadata": {},
   "outputs": [],
   "source": [
    "# %%timeit\n",
    "# lquery_combined(Point([np.random.sample()*180, np.random.sample()*88]), ls8_gdf)"
   ]
  },
  {
   "cell_type": "code",
   "execution_count": 10,
   "id": "backed-broadcast",
   "metadata": {},
   "outputs": [
    {
     "data": {
      "text/html": [
       "<div>\n",
       "<style scoped>\n",
       "    .dataframe tbody tr th:only-of-type {\n",
       "        vertical-align: middle;\n",
       "    }\n",
       "\n",
       "    .dataframe tbody tr th {\n",
       "        vertical-align: top;\n",
       "    }\n",
       "\n",
       "    .dataframe thead th {\n",
       "        text-align: right;\n",
       "    }\n",
       "</style>\n",
       "<table border=\"1\" class=\"dataframe\">\n",
       "  <thead>\n",
       "    <tr style=\"text-align: right;\">\n",
       "      <th></th>\n",
       "      <th>path</th>\n",
       "      <th>row</th>\n",
       "      <th>lat_CTR</th>\n",
       "      <th>lon_CTR</th>\n",
       "      <th>geometry</th>\n",
       "    </tr>\n",
       "  </thead>\n",
       "  <tbody>\n",
       "    <tr>\n",
       "      <th>1746</th>\n",
       "      <td>8</td>\n",
       "      <td>11</td>\n",
       "      <td>69.606373</td>\n",
       "      <td>-47.857343</td>\n",
       "      <td>POLYGON ((-49.23200 70.69500, -44.50500 69.955...</td>\n",
       "    </tr>\n",
       "    <tr>\n",
       "      <th>1747</th>\n",
       "      <td>8</td>\n",
       "      <td>12</td>\n",
       "      <td>68.279631</td>\n",
       "      <td>-49.545762</td>\n",
       "      <td>POLYGON ((-50.91000 69.35600, -46.41400 68.660...</td>\n",
       "    </tr>\n",
       "    <tr>\n",
       "      <th>1994</th>\n",
       "      <td>9</td>\n",
       "      <td>11</td>\n",
       "      <td>69.606373</td>\n",
       "      <td>-49.402408</td>\n",
       "      <td>POLYGON ((-50.77700 70.69500, -46.05000 69.955...</td>\n",
       "    </tr>\n",
       "    <tr>\n",
       "      <th>2242</th>\n",
       "      <td>10</td>\n",
       "      <td>11</td>\n",
       "      <td>69.606373</td>\n",
       "      <td>-50.947472</td>\n",
       "      <td>POLYGON ((-52.32200 70.69500, -47.59500 69.955...</td>\n",
       "    </tr>\n",
       "    <tr>\n",
       "      <th>20319</th>\n",
       "      <td>82</td>\n",
       "      <td>233</td>\n",
       "      <td>69.606373</td>\n",
       "      <td>-49.668847</td>\n",
       "      <td>POLYGON ((-46.43100 69.19800, -50.90400 68.507...</td>\n",
       "    </tr>\n",
       "    <tr>\n",
       "      <th>20567</th>\n",
       "      <td>83</td>\n",
       "      <td>233</td>\n",
       "      <td>69.606373</td>\n",
       "      <td>-51.213911</td>\n",
       "      <td>POLYGON ((-47.97600 69.19800, -52.44900 68.507...</td>\n",
       "    </tr>\n",
       "    <tr>\n",
       "      <th>20814</th>\n",
       "      <td>84</td>\n",
       "      <td>232</td>\n",
       "      <td>68.279631</td>\n",
       "      <td>-51.070557</td>\n",
       "      <td>POLYGON ((-48.04600 67.84400, -52.30600 67.192...</td>\n",
       "    </tr>\n",
       "  </tbody>\n",
       "</table>\n",
       "</div>"
      ],
      "text/plain": [
       "       path  row    lat_CTR    lon_CTR  \\\n",
       "1746      8   11  69.606373 -47.857343   \n",
       "1747      8   12  68.279631 -49.545762   \n",
       "1994      9   11  69.606373 -49.402408   \n",
       "2242     10   11  69.606373 -50.947472   \n",
       "20319    82  233  69.606373 -49.668847   \n",
       "20567    83  233  69.606373 -51.213911   \n",
       "20814    84  232  68.279631 -51.070557   \n",
       "\n",
       "                                                geometry  \n",
       "1746   POLYGON ((-49.23200 70.69500, -44.50500 69.955...  \n",
       "1747   POLYGON ((-50.91000 69.35600, -46.41400 68.660...  \n",
       "1994   POLYGON ((-50.77700 70.69500, -46.05000 69.955...  \n",
       "2242   POLYGON ((-52.32200 70.69500, -47.59500 69.955...  \n",
       "20319  POLYGON ((-46.43100 69.19800, -50.90400 68.507...  \n",
       "20567  POLYGON ((-47.97600 69.19800, -52.44900 68.507...  \n",
       "20814  POLYGON ((-48.04600 67.84400, -52.30600 67.192...  "
      ]
     },
     "execution_count": 10,
     "metadata": {},
     "output_type": "execute_result"
    }
   ],
   "source": [
    "idx = lquery_combined(query_pt, ls8_gdf)\n",
    "\n",
    "ls8_gdf.loc[idx]"
   ]
  },
  {
   "cell_type": "code",
   "execution_count": 11,
   "id": "selective-friend",
   "metadata": {},
   "outputs": [
    {
     "name": "stdout",
     "output_type": "stream",
     "text": [
      "[('008/011', 1746), ('008/012', 1747), ('009/011', 1994), ('010/011', 2242), ('082/233', 20319), ('083/233', 20567), ('084/232', 20814)]\n"
     ]
    },
    {
     "data": {
      "application/vnd.jupyter.widget-view+json": {
       "model_id": "c69308c2b18143fea07d6df22ee54e7a",
       "version_major": 2,
       "version_minor": 0
      },
      "text/plain": [
       "AppLayout(children=(VBox(children=(HTML(value='<h2>Drag the marker to your region of interest</h1>'), Dropdown…"
      ]
     },
     "metadata": {},
     "output_type": "display_data"
    }
   ],
   "source": [
    "# query_pt.reverse()\n",
    "\n",
    "selectionmap = ilfl.Map(basemap=ilfl.basemaps.Gaode.Satellite, center=query_pt, zoom=zoom)\n",
    "selectionmker = ilfl.Marker(location=query_pt, draggable=False)\n",
    "selectionmap.add_layer(selectionmker)\n",
    "\n",
    "iwg.AppLayout(left_sidebar=iwg.VBox([iwg.HTML(\"<h3>Select Path/Row<h3>\")]), center=selectionmap)\n",
    "\n",
    "pr_options = [('{:03d}/{:03d}'.format(ls8_gdf.loc[i, 'path'], ls8_gdf.loc[i, 'row']) ,i) for i in idx]\n",
    "print(pr_options)\n",
    "\n",
    "pr_menu = iwg.Dropdown(options=pr_options, description='Path/Row:')\n",
    "\n",
    "# pr_menu.\n",
    "\n",
    "def on_change(change):\n",
    "    tmp = ilfl.Marker(location=[69, -50], draggable=True)\n",
    "    selectionmap.add_layer(tmp)\n",
    "    # print(\"changed to %s\" % change['new'])\n",
    "\n",
    "pr_menu.observe(on_change, names='value')\n",
    "\n",
    "iwg.AppLayout(left_sidebar=iwg.VBox([iwg.HTML(\"<h2>Drag the marker to your region of interest</h1>\"), pr_menu]), center=mainmap)\n",
    "\n",
    "# return(AppLayout(header = VBox([HTML(\"<h1>Select area (time and space)</h1>\"),\n",
    "#                      HBox([Label(\"Start Date:\"), start, \n",
    "#                            Label(\"End Date:\"), end])]),\n",
    "#                  center = m,\n",
    "#                  right_sidebar = VBox([HTML(\"<h3>or upload shapefile<h3>\"), file, HTML(\"<h3> <h3>\"), HTML(\"<h3>or bounding box<h3>\"), \n",
    "#                          Label(\"Bottom-left corner\"), lon_l, lat_l, Label(\"Upper-right corner\"), lon_r, lat_r])))"
   ]
  },
  {
   "cell_type": "code",
   "execution_count": 25,
   "id": "dental-pressure",
   "metadata": {},
   "outputs": [],
   "source": [
    "# !aws s3 ls s3://landsat-pds/c1/L8/217/015/ --no-sign-request"
   ]
  },
  {
   "cell_type": "code",
   "execution_count": 13,
   "id": "adjustable-horse",
   "metadata": {},
   "outputs": [],
   "source": [
    "import boto3\n",
    "import botocore\n",
    "# from botocore import UNSIGNED\n",
    "# from botocore.config import Config\n",
    "# according to https://github.com/boto/boto3/issues/1200\n",
    "s3 = boto3.client('s3', region_name='us-west-2', config=botocore.config.Config(signature_version=botocore.UNSIGNED))\n",
    "\n",
    "# import awswrangler as wr\n",
    "# objects = wr.s3.list_objects('s3://landsat-pds/c1/L8/217/015/', boto_session=s3)"
   ]
  },
  {
   "cell_type": "code",
   "execution_count": 45,
   "id": "constant-search",
   "metadata": {},
   "outputs": [
    {
     "name": "stdout",
     "output_type": "stream",
     "text": [
      "c1/L8/009/011/LC08_L1TP_009011_20130401_20170505_01_T1/\n",
      "c1/L8/009/011/LC08_L1TP_009011_20130411_20170505_01_T1/\n",
      "c1/L8/009/011/LC08_L1TP_009011_20130427_20170505_01_T1/\n",
      "c1/L8/009/011/LC08_L1TP_009011_20130902_20170502_01_T1/\n",
      "c1/L8/009/011/LC08_L1TP_009011_20130918_20170502_01_T1/\n",
      "c1/L8/009/011/LC08_L1TP_009011_20131004_20170429_01_T1/\n",
      "c1/L8/009/011/LC08_L1TP_009011_20131020_20170429_01_T1/\n",
      "c1/L8/009/011/LC08_L1TP_009011_20140209_20170425_01_T1/\n",
      "c1/L8/009/011/LC08_L1TP_009011_20140225_20170425_01_T1/\n",
      "c1/L8/009/011/LC08_L1TP_009011_20140313_20170425_01_T1/\n",
      "c1/L8/009/011/LC08_L1TP_009011_20140329_20170424_01_T1/\n",
      "c1/L8/009/011/LC08_L1TP_009011_20140414_20170423_01_T1/\n",
      "c1/L8/009/011/LC08_L1TP_009011_20140516_20170422_01_T1/\n",
      "c1/L8/009/011/LC08_L1TP_009011_20140601_20170422_01_T1/\n",
      "c1/L8/009/011/LC08_L1TP_009011_20140703_20170421_01_T1/\n",
      "c1/L8/009/011/LC08_L1TP_009011_20140719_20170421_01_T1/\n",
      "c1/L8/009/011/LC08_L1TP_009011_20140804_20170420_01_T1/\n",
      "c1/L8/009/011/LC08_L1TP_009011_20140905_20170419_01_T1/\n",
      "c1/L8/009/011/LC08_L1TP_009011_20141007_20170418_01_T1/\n",
      "c1/L8/009/011/LC08_L1TP_009011_20141023_20170418_01_T1/\n",
      "c1/L8/009/011/LC08_L1TP_009011_20150212_20170413_01_T1/\n",
      "c1/L8/009/011/LC08_L1TP_009011_20150228_20170412_01_T1/\n",
      "c1/L8/009/011/LC08_L1TP_009011_20150316_20170412_01_T1/\n",
      "c1/L8/009/011/LC08_L1TP_009011_20150401_20170411_01_T1/\n",
      "c1/L8/009/011/LC08_L1TP_009011_20150417_20170409_01_T1/\n",
      "c1/L8/009/011/LC08_L1TP_009011_20150503_20170409_01_T1/\n",
      "c1/L8/009/011/LC08_L1TP_009011_20150519_20170408_01_T1/\n",
      "c1/L8/009/011/LC08_L1TP_009011_20150604_20170408_01_T1/\n",
      "c1/L8/009/011/LC08_L1TP_009011_20150620_20170407_01_T1/\n",
      "c1/L8/009/011/LC08_L1TP_009011_20150706_20170407_01_T1/\n",
      "c1/L8/009/011/LC08_L1TP_009011_20150807_20170406_01_T1/\n",
      "c1/L8/009/011/LC08_L1TP_009011_20150823_20170405_01_T1/\n",
      "c1/L8/009/011/LC08_L1TP_009011_20150908_20170404_01_T1/\n",
      "c1/L8/009/011/LC08_L1TP_009011_20150924_20170403_01_T1/\n",
      "c1/L8/009/011/LC08_L1TP_009011_20151010_20170403_01_T1/\n",
      "c1/L8/009/011/LC08_L1TP_009011_20160302_20170328_01_T1/\n",
      "c1/L8/009/011/LC08_L1TP_009011_20160318_20170328_01_T1/\n",
      "c1/L8/009/011/LC08_L1TP_009011_20160403_20170327_01_T1/\n",
      "c1/L8/009/011/LC08_L1TP_009011_20160419_20170326_01_T1/\n",
      "c1/L8/009/011/LC08_L1TP_009011_20160505_20170325_01_T1/\n",
      "c1/L8/009/011/LC08_L1TP_009011_20160521_20170324_01_T1/\n",
      "c1/L8/009/011/LC08_L1TP_009011_20160606_20170324_01_T1/\n",
      "c1/L8/009/011/LC08_L1TP_009011_20160622_20170323_01_T1/\n",
      "c1/L8/009/011/LC08_L1TP_009011_20160708_20170323_01_T1/\n",
      "c1/L8/009/011/LC08_L1TP_009011_20160724_20170322_01_T1/\n",
      "c1/L8/009/011/LC08_L1TP_009011_20160809_20170322_01_T1/\n",
      "c1/L8/009/011/LC08_L1TP_009011_20160825_20180130_01_T1/\n",
      "c1/L8/009/011/LC08_L1TP_009011_20160926_20170320_01_T1/\n",
      "c1/L8/009/011/LC08_L1TP_009011_20161028_20180130_01_T1/\n",
      "c1/L8/009/011/LC08_L1TP_009011_20170217_20170228_01_T1/\n",
      "c1/L8/009/011/LC08_L1TP_009011_20170305_20170316_01_T1/\n",
      "c1/L8/009/011/LC08_L1TP_009011_20170406_20170414_01_T1/\n",
      "c1/L8/009/011/LC08_L1TP_009011_20170422_20170501_01_T1/\n",
      "c1/L8/009/011/LC08_L1TP_009011_20170524_20170524_01_RT/\n",
      "c1/L8/009/011/LC08_L1TP_009011_20170524_20170614_01_T1/\n",
      "c1/L8/009/011/LC08_L1TP_009011_20170609_20170609_01_RT/\n",
      "c1/L8/009/011/LC08_L1TP_009011_20170609_20170616_01_T1/\n",
      "c1/L8/009/011/LC08_L1TP_009011_20170625_20170625_01_RT/\n",
      "c1/L8/009/011/LC08_L1TP_009011_20170625_20170713_01_T1/\n",
      "c1/L8/009/011/LC08_L1TP_009011_20170711_20170711_01_RT/\n",
      "c1/L8/009/011/LC08_L1TP_009011_20170711_20170726_01_T1/\n",
      "c1/L8/009/011/LC08_L1TP_009011_20170727_20170727_01_RT/\n",
      "c1/L8/009/011/LC08_L1TP_009011_20170727_20170810_01_T1/\n",
      "c1/L8/009/011/LC08_L1TP_009011_20170812_20170812_01_RT/\n",
      "c1/L8/009/011/LC08_L1TP_009011_20170812_20170824_01_T1/\n",
      "c1/L8/009/011/LC08_L1TP_009011_20170828_20170828_01_RT/\n",
      "c1/L8/009/011/LC08_L1TP_009011_20170828_20170914_01_T1/\n",
      "c1/L8/009/011/LC08_L1TP_009011_20171015_20171015_01_RT/\n",
      "c1/L8/009/011/LC08_L1TP_009011_20171015_20171024_01_T1/\n",
      "c1/L8/009/011/LC08_L1TP_009011_20171031_20171031_01_RT/\n",
      "c1/L8/009/011/LC08_L1TP_009011_20171031_20171109_01_T1/\n",
      "c1/L8/009/011/LC08_L1TP_009011_20180324_20180324_01_RT/\n",
      "c1/L8/009/011/LC08_L1TP_009011_20180324_20180404_01_T1/\n",
      "c1/L8/009/011/LC08_L1TP_009011_20180409_20180409_01_RT/\n",
      "c1/L8/009/011/LC08_L1TP_009011_20180409_20180417_01_T1/\n",
      "c1/L8/009/011/LC08_L1TP_009011_20180425_20180425_01_RT/\n",
      "c1/L8/009/011/LC08_L1TP_009011_20180511_20180512_01_RT/\n",
      "c1/L8/009/011/LC08_L1TP_009011_20180511_20180517_01_T1/\n",
      "c1/L8/009/011/LC08_L1TP_009011_20180527_20180527_01_RT/\n",
      "c1/L8/009/011/LC08_L1TP_009011_20180527_20180605_01_T1/\n",
      "c1/L8/009/011/LC08_L1TP_009011_20180612_20180612_01_RT/\n",
      "c1/L8/009/011/LC08_L1TP_009011_20180612_20180615_01_T1/\n",
      "c1/L8/009/011/LC08_L1TP_009011_20180628_20180628_01_RT/\n",
      "c1/L8/009/011/LC08_L1TP_009011_20180628_20180704_01_T1/\n",
      "c1/L8/009/011/LC08_L1TP_009011_20180730_20180730_01_RT/\n",
      "c1/L8/009/011/LC08_L1TP_009011_20180730_20180814_01_T1/\n",
      "c1/L8/009/011/LC08_L1TP_009011_20180815_20180815_01_RT/\n",
      "c1/L8/009/011/LC08_L1TP_009011_20180815_20180828_01_T1/\n",
      "c1/L8/009/011/LC08_L1TP_009011_20180831_20180831_01_RT/\n",
      "c1/L8/009/011/LC08_L1TP_009011_20180831_20180912_01_T1/\n",
      "c1/L8/009/011/LC08_L1TP_009011_20180916_20180916_01_RT/\n",
      "c1/L8/009/011/LC08_L1TP_009011_20180916_20180928_01_T1/\n",
      "c1/L8/009/011/LC08_L1TP_009011_20181002_20181002_01_RT/\n",
      "c1/L8/009/011/LC08_L1TP_009011_20181002_20181010_01_T1/\n",
      "c1/L8/009/011/LC08_L1TP_009011_20181018_20181018_01_RT/\n",
      "c1/L8/009/011/LC08_L1TP_009011_20181018_20181031_01_T1/\n",
      "c1/L8/009/011/LC08_L1TP_009011_20181103_20181103_01_RT/\n",
      "c1/L8/009/011/LC08_L1TP_009011_20181103_20181115_01_T1/\n",
      "c1/L8/009/011/LC08_L1TP_009011_20190207_20190207_01_RT/\n",
      "c1/L8/009/011/LC08_L1TP_009011_20190207_20190221_01_T1/\n",
      "c1/L8/009/011/LC08_L1TP_009011_20190223_20190223_01_RT/\n",
      "c1/L8/009/011/LC08_L1TP_009011_20190223_20190308_01_T1/\n",
      "c1/L8/009/011/LC08_L1TP_009011_20190311_20190311_01_RT/\n",
      "c1/L8/009/011/LC08_L1TP_009011_20190311_20190325_01_T1/\n",
      "c1/L8/009/011/LC08_L1TP_009011_20190327_20190327_01_RT/\n",
      "c1/L8/009/011/LC08_L1TP_009011_20190327_20190404_01_T1/\n",
      "c1/L8/009/011/LC08_L1TP_009011_20190412_20190412_01_RT/\n",
      "c1/L8/009/011/LC08_L1TP_009011_20190412_20190422_01_T1/\n",
      "c1/L8/009/011/LC08_L1TP_009011_20190428_20190428_01_RT/\n",
      "c1/L8/009/011/LC08_L1TP_009011_20190428_20190508_01_T1/\n",
      "c1/L8/009/011/LC08_L1TP_009011_20190514_20190514_01_RT/\n",
      "c1/L8/009/011/LC08_L1TP_009011_20190514_20190521_01_T1/\n",
      "c1/L8/009/011/LC08_L1TP_009011_20190530_20190530_01_RT/\n",
      "c1/L8/009/011/LC08_L1TP_009011_20190530_20190605_01_T1/\n",
      "c1/L8/009/011/LC08_L1TP_009011_20190615_20190615_01_RT/\n",
      "c1/L8/009/011/LC08_L1TP_009011_20190615_20190620_01_T1/\n",
      "c1/L8/009/011/LC08_L1TP_009011_20190701_20190701_01_RT/\n",
      "c1/L8/009/011/LC08_L1TP_009011_20190701_20190706_01_T1/\n",
      "c1/L8/009/011/LC08_L1TP_009011_20190802_20190802_01_RT/\n",
      "c1/L8/009/011/LC08_L1TP_009011_20190802_20190819_01_T1/\n",
      "c1/L8/009/011/LC08_L1TP_009011_20190818_20190818_01_RT/\n",
      "c1/L8/009/011/LC08_L1TP_009011_20190818_20190902_01_T1/\n",
      "c1/L8/009/011/LC08_L1TP_009011_20190903_20190903_01_RT/\n",
      "c1/L8/009/011/LC08_L1TP_009011_20190903_20190917_01_T1/\n",
      "c1/L8/009/011/LC08_L1TP_009011_20190919_20190919_01_RT/\n",
      "c1/L8/009/011/LC08_L1TP_009011_20190919_20190926_01_T1/\n",
      "c1/L8/009/011/LC08_L1TP_009011_20191005_20191005_01_RT/\n",
      "c1/L8/009/011/LC08_L1TP_009011_20191005_20191018_01_T1/\n",
      "c1/L8/009/011/LC08_L1TP_009011_20191021_20191021_01_RT/\n",
      "c1/L8/009/011/LC08_L1TP_009011_20191021_20191030_01_T1/\n",
      "c1/L8/009/011/LC08_L1TP_009011_20200210_20200211_01_RT/\n",
      "c1/L8/009/011/LC08_L1TP_009011_20200210_20200224_01_T1/\n",
      "c1/L8/009/011/LC08_L1TP_009011_20200226_20200226_01_RT/\n",
      "c1/L8/009/011/LC08_L1TP_009011_20200226_20200313_01_T1/\n",
      "c1/L8/009/011/LC08_L1TP_009011_20200313_20200315_01_RT/\n",
      "c1/L8/009/011/LC08_L1TP_009011_20200313_20200325_01_T1/\n",
      "c1/L8/009/011/LC08_L1TP_009011_20200414_20200414_01_RT/\n",
      "c1/L8/009/011/LC08_L1TP_009011_20200414_20200423_01_T1/\n",
      "c1/L8/009/011/LC08_L1TP_009011_20200430_20200430_01_RT/\n",
      "c1/L8/009/011/LC08_L1TP_009011_20200430_20200509_01_T1/\n",
      "c1/L8/009/011/LC08_L1TP_009011_20200516_20200516_01_RT/\n",
      "c1/L8/009/011/LC08_L1TP_009011_20200516_20200527_01_T1/\n",
      "c1/L8/009/011/LC08_L1TP_009011_20200617_20200619_01_RT/\n",
      "c1/L8/009/011/LC08_L1TP_009011_20200617_20200626_01_T1/\n",
      "c1/L8/009/011/LC08_L1TP_009011_20200703_20200703_01_RT/\n",
      "c1/L8/009/011/LC08_L1TP_009011_20200703_20200708_01_T1/\n",
      "c1/L8/009/011/LC08_L1TP_009011_20200719_20200719_01_RT/\n",
      "c1/L8/009/011/LC08_L1TP_009011_20200719_20200807_01_T1/\n",
      "c1/L8/009/011/LC08_L1TP_009011_20200820_20200820_01_RT/\n",
      "c1/L8/009/011/LC08_L1TP_009011_20200820_20200905_01_T1/\n",
      "c1/L8/009/011/LC08_L1TP_009011_20200905_20200905_01_RT/\n",
      "c1/L8/009/011/LC08_L1TP_009011_20200905_20200917_01_T1/\n",
      "c1/L8/009/011/LC08_L1TP_009011_20200921_20200921_01_RT/\n",
      "c1/L8/009/011/LC08_L1TP_009011_20200921_20201006_01_T1/\n",
      "c1/L8/009/011/LC08_L1TP_009011_20201007_20201007_01_RT/\n",
      "c1/L8/009/011/LC08_L1TP_009011_20201007_20201016_01_T1/\n",
      "c1/L8/009/011/LC08_L1TP_009011_20201023_20201023_01_RT/\n",
      "c1/L8/009/011/LC08_L1TP_009011_20201023_20201105_01_T1/\n",
      "c1/L8/009/011/LC08_L1TP_009011_20210212_20210212_01_T1/\n",
      "c1/L8/009/011/LC08_L1TP_009011_20210228_20210228_01_RT/\n"
     ]
    }
   ],
   "source": [
    "# List objects present in a bucket\n",
    "# response = s3.list_objects(Bucket=\"landsat-pds\", MaxKeys=10, Prefix='LC08_L1TP_217015', Delimiter='txt')\n",
    "response = s3.list_objects_v2(Bucket=\"landsat-pds\", MaxKeys=1000, Prefix='c1/L8/009/011/LC08_L1TP_', Delimiter='/')\n",
    "#                           MaxKeys=10, \n",
    "#                            Preffix=\"only_files_starting_with_this_string\")\n",
    "\n",
    "# # Uploading and downloading files\n",
    "# s3.upload_file(Filename=📄, Bucket=🗑, Key=🔑)\n",
    "# s3.download_file(Filename=📄, Bucket=🗑, Key=🔑)\n",
    "\n",
    "# # Get object's metadata (last modification time, size in bytes etc.)\n",
    "# response = s3.head_object(Bucket=🗑, Key=🔑)\n",
    "\n",
    "# # Delete object\n",
    "# s3.delete_object(Bucket=🗑, Key=🔑)\n",
    "\n",
    "# result = client.list_objects(Bucket=bucket, Prefix=prefix, Delimiter='/')\n",
    "for scene in response.get('CommonPrefixes'):\n",
    "    print(scene.get('Prefix'))"
   ]
  },
  {
   "cell_type": "code",
   "execution_count": 47,
   "id": "extreme-guard",
   "metadata": {},
   "outputs": [
    {
     "name": "stdout",
     "output_type": "stream",
     "text": [
      "https://landsat-pds.s3.amazonaws.com/c1/L8/009/011/LC08_L1TP_009011_20200703_20200708_01_T1/LC08_L1TP_009011_20200703_20200708_01_T1_B4.TIF https://landsat-pds.s3.amazonaws.com/c1/L8/009/011/LC08_L1TP_009011_20200820_20200905_01_T1/LC08_L1TP_009011_20200820_20200905_01_T1_B4.TIF\n"
     ]
    }
   ],
   "source": [
    "response = s3.list_objects_v2(Bucket=\"landsat-pds\", MaxKeys=1000, Prefix='c1/L8/009/011/LC08_L1TP_009011_20200703_20200708_01_T1/LC08_L1TP_009011_20200703_20200708_01_T1_B4.TIF')\n",
    "for record in response['Contents']:\n",
    "    if record['Key'].endswith('.TIF'):\n",
    "        file1 = 'https://landsat-pds.s3.amazonaws.com/' + record['Key']\n",
    "        \n",
    "response = s3.list_objects_v2(Bucket=\"landsat-pds\", MaxKeys=1000, Prefix='c1/L8/009/011/LC08_L1TP_009011_20200820_20200905_01_T1/LC08_L1TP_009011_20200820_20200905_01_T1_B4.TIF')\n",
    "for record in response['Contents']:\n",
    "    if record['Key'].endswith('.TIF'):\n",
    "        file2 = 'https://landsat-pds.s3.amazonaws.com/' + record['Key']\n",
    "        \n",
    "print(file1, file2)"
   ]
  },
  {
   "cell_type": "code",
   "execution_count": 16,
   "id": "reliable-central",
   "metadata": {},
   "outputs": [],
   "source": [
    "import sys\n",
    "sys.path.append('/home/whyj/Projects/Github/CARST/Utilities/Python')"
   ]
  },
  {
   "cell_type": "code",
   "execution_count": 17,
   "id": "wrapped-seeker",
   "metadata": {},
   "outputs": [
    {
     "name": "stdout",
     "output_type": "stream",
     "text": [
      "This is the Open Source version of ISCE.\n",
      "Some of the workflows depend on a separate licensed package.\n",
      "To obtain the licensed package, please make a request for ISCE\n",
      "through the website: https://download.jpl.nasa.gov/ops/request/index.cfm.\n",
      "Alternatively, if you are a member, or can become a member of WinSAR\n",
      "you may be able to obtain access to a version of the licensed sofware at\n",
      "https://winsar.unavco.org/software/isce\n",
      "2021-03-02 20:51:37,570 - matplotlib - DEBUG - (private) matplotlib data path: /home/whyj/anaconda3/envs/carst/lib/python3.9/site-packages/matplotlib/mpl-data\n",
      "2021-03-02 20:51:37,571 - matplotlib - DEBUG - matplotlib data path: /home/whyj/anaconda3/envs/carst/lib/python3.9/site-packages/matplotlib/mpl-data\n",
      "2021-03-02 20:51:37,573 - matplotlib - DEBUG - CONFIGDIR=/home/whyj/.config/matplotlib\n",
      "2021-03-02 20:51:37,574 - matplotlib - DEBUG - matplotlib version 3.3.4\n",
      "2021-03-02 20:51:37,574 - matplotlib - DEBUG - interactive is False\n",
      "2021-03-02 20:51:37,575 - matplotlib - DEBUG - platform is linux\n",
      "2021-03-02 20:51:37,575 - matplotlib - DEBUG - loaded modules: ['sys', 'builtins', '_frozen_importlib', '_imp', '_thread', '_warnings', '_weakref', '_frozen_importlib_external', 'posix', '_io', 'marshal', 'time', 'zipimport', '_codecs', 'codecs', 'encodings.aliases', 'encodings', 'encodings.utf_8', '_signal', 'encodings.latin_1', '_abc', 'abc', 'io', '__main__', '_stat', 'stat', '_collections_abc', 'genericpath', 'posixpath', 'os.path', 'os', '_sitebuiltins', '_locale', '_bootlocale', 'types', 'importlib._bootstrap', 'importlib._bootstrap_external', 'warnings', 'importlib', 'importlib.machinery', '_heapq', 'heapq', 'itertools', 'keyword', '_operator', 'operator', 'reprlib', '_collections', 'collections', 'collections.abc', '_functools', 'functools', 'contextlib', 'enum', '_sre', 'sre_constants', 'sre_parse', 'sre_compile', 'copyreg', 're', 'typing.io', 'typing.re', 'typing', 'importlib.abc', 'importlib.util', 'mpl_toolkits', 'sphinxcontrib', 'site', '_weakrefset', 'weakref', 'pkgutil', 'runpy', 'ipykernel._version', '_json', 'json.scanner', 'json.decoder', 'json.encoder', 'json', 'errno', 'signal', 'threading', 'pwd', 'grp', '_posixsubprocess', 'select', 'math', 'selectors', 'subprocess', 'IPython.core', 'IPython.core.getipython', 'IPython.core.release', 'atexit', 'copy', 'fnmatch', 'glob', 'token', 'tokenize', 'linecache', 'traceback', '_string', 'string', 'logging', 'zlib', '_compression', '_bz2', 'bz2', '_lzma', 'lzma', 'shutil', '_ast', 'ast', '_opcode', 'opcode', 'dis', 'inspect', 'traitlets.utils', 'traitlets.utils.getargspec', 'traitlets.utils.importstring', 'traitlets.utils.sentinel', 'traitlets.utils.bunch', 'traitlets.utils.descriptions', 'traitlets.traitlets', 'traitlets.utils.decorators', 'traitlets._version', 'traitlets', 'pprint', 'gettext', 'argparse', 'ipython_genutils._version', 'ipython_genutils', '_bisect', 'bisect', '_random', '_sha512', 'random', 'locale', 'ipython_genutils.encoding', 'platform', 'ipython_genutils.py3compat', 'ipython_genutils.path', 'traitlets.config.loader', 'textwrap', 'ipython_genutils.text', 'traitlets.config.configurable', 'traitlets.config.application', 'traitlets.config', 'sysconfig', 'urllib', 'urllib.parse', '_sysconfigdata__linux_x86_64-linux-gnu', 'pydoc', 'bdb', 'IPython.utils', 'IPython.utils.ipstruct', 'IPython.utils.coloransi', 'pygments', 'IPython.utils.colorable', 'IPython.utils.PyColorize', 'IPython.utils.encoding', 'IPython.utils.py3compat', 'IPython.core.excolors', 'IPython.testing', 'IPython.testing.skipdoctest', 'cmd', '__future__', 'codeop', 'code', 'pdb', 'IPython.core.debugger', 'IPython.core.display_trap', 'pexpect.exceptions', 'pexpect.utils', 'pexpect.expect', 'termios', 'tty', 'pty', 'fcntl', 'resource', '_struct', 'struct', 'ptyprocess.util', 'ptyprocess.ptyprocess', 'ptyprocess', 'pexpect.spawnbase', 'pexpect.pty_spawn', 'pexpect.run', 'pexpect', 'shlex', 'IPython.utils._process_common', 'IPython.utils._process_posix', 'IPython.utils.process', 'IPython.utils.decorators', 'IPython.utils.path', 'IPython.utils.data', 'IPython.utils.terminal', 'IPython.core.ultratb', 'IPython.utils._sysinfo', 'IPython.utils.sysinfo', 'IPython.core.crashhandler', 'tempfile', 'IPython.utils.importstring', 'IPython.paths', 'IPython.core.profiledir', 'IPython.core.application', 'IPython.terminal', '_hashlib', '_blake2', 'hashlib', 'IPython.core.compilerop', 'IPython.core.error', 'ntpath', 'pathlib', 'IPython.utils.text', 'IPython.core.magic_arguments', 'getopt', 'binascii', 'mimetypes', 'IPython.core.display', 'IPython.core.page', 'getpass', 'IPython.lib.security', 'IPython.lib', '_datetime', 'datetime', 'IPython.lib.pretty', 'IPython.utils.openpy', 'IPython.utils.dir2', 'IPython.utils.wildcard', 'pygments.lexers._mapping', 'pygments.modeline', 'pygments.plugin', 'pygments.util', 'pygments.lexers', 'pygments.filter', 'pygments.token', 'pygments.filters', 'pygments.regexopt', 'pygments.lexer', 'pygments.unistring', 'pygments.lexers.python', 'pygments.formatters._mapping', 'pygments.formatters', 'pygments.styles', 'pygments.formatter', 'pygments.formatters.html', 'IPython.core.oinspect', 'IPython.core.inputtransformer2', 'decorator', 'IPython.core.magic', '_compat_pickle', '_pickle', 'pickle', 'pickleshare', 'IPython.core.autocall', 'IPython.core.macro', 'IPython.core.splitinput', 'IPython.core.prefilter', 'IPython.core.alias', 'IPython.core.builtin_trap', 'backcall.backcall', 'backcall', 'IPython.core.events', 'IPython.core.displayhook', 'IPython.core.displaypub', 'IPython.core.extensions', 'IPython.utils.sentinel', 'IPython.core.formatters', '_sqlite3', 'sqlite3.dbapi2', 'sqlite3', 'IPython.core.history', 'IPython.core.logger', 'IPython.core.payload', 'IPython.core.usage', 'html.entities', 'html', 'IPython.lib.display', 'IPython.display', 'IPython.utils.capture', 'IPython.utils.io', 'IPython.core.hooks', 'IPython.utils.strdispatch', 'IPython.utils.syspathcontext', 'IPython.utils.tempdir', 'IPython.utils.contexts', 'IPython.core.async_helpers', 'IPython.core.interactiveshell', 'concurrent', 'concurrent.futures._base', 'concurrent.futures', '_socket', 'array', 'socket', '_ssl', 'base64', 'ssl', 'asyncio.constants', 'asyncio.format_helpers', 'asyncio.base_futures', 'asyncio.log', 'asyncio.coroutines', '_contextvars', 'contextvars', 'asyncio.exceptions', 'asyncio.base_tasks', '_asyncio', 'asyncio.events', 'asyncio.futures', 'asyncio.protocols', 'asyncio.transports', 'asyncio.sslproto', 'asyncio.locks', 'asyncio.tasks', 'asyncio.staggered', 'asyncio.trsock', 'asyncio.base_events', 'asyncio.runners', 'asyncio.queues', 'asyncio.streams', 'asyncio.subprocess', 'asyncio.threads', 'asyncio.base_subprocess', 'asyncio.selector_events', 'asyncio.unix_events', 'asyncio', 'prompt_toolkit.application.current', 'prompt_toolkit.eventloop.utils', 'prompt_toolkit.eventloop.async_generator', 'wcwidth.table_wide', 'wcwidth.table_zero', 'wcwidth.unicode_versions', 'wcwidth.wcwidth', 'wcwidth', 'prompt_toolkit.utils', 'prompt_toolkit.eventloop.inputhook', 'prompt_toolkit.eventloop', 'prompt_toolkit.application.run_in_terminal', 'prompt_toolkit.selection', 'prompt_toolkit.clipboard.base', 'prompt_toolkit.clipboard.in_memory', 'prompt_toolkit.clipboard', 'prompt_toolkit.cache', 'prompt_toolkit.enums', 'prompt_toolkit.filters.base', 'prompt_toolkit.filters.app', 'prompt_toolkit.filters.cli', 'prompt_toolkit.filters.utils', 'prompt_toolkit.filters', 'prompt_toolkit.document', 'prompt_toolkit.auto_suggest', 'prompt_toolkit.data_structures', 'prompt_toolkit.styles.base', 'prompt_toolkit.styles.named_colors', 'prompt_toolkit.styles.style', 'prompt_toolkit.styles.defaults', 'prompt_toolkit.styles.pygments', 'colorsys', 'prompt_toolkit.styles.style_transformation', 'prompt_toolkit.styles', 'prompt_toolkit.output.color_depth', 'prompt_toolkit.output.base', 'prompt_toolkit.output.defaults', 'prompt_toolkit.output', 'prompt_toolkit.output.vt100', 'prompt_toolkit.mouse_events', 'prompt_toolkit.formatted_text.base', 'prompt_toolkit.formatted_text.ansi', 'xml', 'xml.dom.domreg', 'xml.dom', 'xml.dom.minicompat', 'xml.dom.NodeFilter', 'xml.dom.xmlbuilder', 'xml.dom.minidom', 'prompt_toolkit.formatted_text.html', 'prompt_toolkit.formatted_text.pygments', 'prompt_toolkit.formatted_text.utils', 'prompt_toolkit.formatted_text', 'prompt_toolkit.completion.base', 'prompt_toolkit.completion.deduplicate', 'prompt_toolkit.completion.filesystem', 'prompt_toolkit.completion.word_completer', 'prompt_toolkit.completion.fuzzy_completer', 'prompt_toolkit.completion.nested', 'prompt_toolkit.completion', 'prompt_toolkit.history', 'prompt_toolkit.keys', 'prompt_toolkit.key_binding.key_bindings', 'prompt_toolkit.key_binding.key_processor', 'prompt_toolkit.key_binding', 'prompt_toolkit.key_binding.vi_state', 'prompt_toolkit.search', 'prompt_toolkit.validation', 'prompt_toolkit.buffer', 'prompt_toolkit.input.base', 'prompt_toolkit.input.defaults', 'prompt_toolkit.input', 'prompt_toolkit.input.typeahead', 'prompt_toolkit.key_binding.bindings', 'prompt_toolkit.key_binding.bindings.scroll', 'prompt_toolkit.key_binding.bindings.page_navigation', 'prompt_toolkit.lexers.base', 'prompt_toolkit.lexers.pygments', 'prompt_toolkit.lexers', 'prompt_toolkit.layout.utils', 'prompt_toolkit.layout.processors', 'prompt_toolkit.layout.controls', 'prompt_toolkit.layout.dimension', 'prompt_toolkit.layout.margins', 'prompt_toolkit.layout.mouse_handlers', 'prompt_toolkit.layout.screen', 'prompt_toolkit.layout.containers', 'prompt_toolkit.layout.layout', 'prompt_toolkit.layout.menus', 'prompt_toolkit.layout.scrollable_pane', 'prompt_toolkit.layout', 'prompt_toolkit.key_binding.bindings.completion', 'prompt_toolkit.key_binding.bindings.named_commands', 'prompt_toolkit.key_binding.bindings.basic', 'prompt_toolkit.key_binding.bindings.cpr', 'prompt_toolkit.key_binding.bindings.emacs', 'prompt_toolkit.key_binding.bindings.mouse', 'prompt_toolkit.input.ansi_escape_sequences', 'prompt_toolkit.input.vt100_parser', 'prompt_toolkit.key_binding.digraphs', 'prompt_toolkit.key_binding.bindings.vi', 'prompt_toolkit.key_binding.defaults', 'prompt_toolkit.key_binding.emacs_state', 'prompt_toolkit.layout.dummy', 'prompt_toolkit.renderer', 'prompt_toolkit.application.application', 'prompt_toolkit.application.dummy', 'prompt_toolkit.application', 'prompt_toolkit.key_binding.bindings.focus', 'prompt_toolkit.widgets.toolbars', 'prompt_toolkit.widgets.base', 'prompt_toolkit.widgets.dialogs', 'prompt_toolkit.widgets.menus', 'prompt_toolkit.widgets', 'prompt_toolkit.shortcuts.dialogs', 'prompt_toolkit.shortcuts.progress_bar.formatters', 'prompt_toolkit.shortcuts.progress_bar.base', 'prompt_toolkit.shortcuts.progress_bar', 'prompt_toolkit.key_binding.bindings.auto_suggest', 'prompt_toolkit.key_binding.bindings.open_in_editor', 'prompt_toolkit.shortcuts.prompt', 'prompt_toolkit.shortcuts.utils', 'prompt_toolkit.shortcuts', 'prompt_toolkit', '_queue', 'queue', 'prompt_toolkit.patch_stdout', 'pygments.style', 'unicodedata', 'IPython.core.latex_symbols', 'IPython.utils.generics', 'parso.utils', 'parso.tree', 'parso.python', 'parso.python.token', 'parso.python.tokenize', 'parso.pgen2.grammar_parser', 'parso.pgen2.generator', 'parso.pgen2', 'parso.parser', 'parso._compatibility', 'difflib', 'parso.python.prefix', 'parso.python.tree', 'parso.python.parser', 'parso.python.diff', 'gc', 'parso.cache', 'parso.normalizer', 'parso.python.errors', 'parso.python.pep8', 'parso.file_io', 'parso.grammar', 'parso', 'jedi._compatibility', 'jedi.parser_utils', 'colorama.ansi', '_ctypes', 'ctypes._endian', 'ctypes', 'colorama.win32', 'colorama.winterm', 'colorama.ansitowin32', 'colorama.initialise', 'colorama', 'jedi.debug', 'jedi.settings', 'jedi.cache', 'jedi.file_io', 'jedi.inference.cache', 'jedi.inference.helpers', 'jedi.inference.utils', 'jedi.inference.base_value', 'jedi.inference.sys_path', 'jedi.inference.recursion', 'jedi.inference.flow_analysis', 'jedi.common', 'jedi.inference.lazy_value', 'jedi.inference.docstrings', 'jedi.plugins', 'jedi.inference.names', 'jedi.inference.filters', 'jedi.inference.compiled.getattr_static', 'jedi.inference.compiled.access', 'jedi.inference.signature', 'jedi.inference.context', 'jedi.inference.compiled.value', 'jedi.inference.compiled', 'jedi.inference.analysis', 'jedi.inference.gradual', 'jedi.inference.value.module', 'jedi.inference.value.dynamic_arrays', 'jedi.inference.value.iterable', 'jedi.inference.arguments', 'jedi.inference.parser_cache', 'jedi.inference.gradual.generics', 'jedi.inference.value.function', 'jedi.inference.value.klass', 'jedi.inference.value.instance', 'jedi.inference.value', 'jedi.inference.gradual.base', 'jedi.inference.gradual.type_var', 'jedi.inference.gradual.typing', 'jedi.inference.gradual.stub_value', 'jedi.inference.gradual.typeshed', 'jedi.inference.compiled.subprocess.functions', 'jedi.api.exceptions', 'jedi.inference.compiled.subprocess', 'jedi.inference.imports', 'jedi.inference.param', 'jedi.inference.gradual.annotation', 'jedi.inference.value.decorator', 'jedi.inference.syntax_tree', 'jedi.inference', 'jedi.inference.gradual.conversion', 'jedi.inference.compiled.mixed', 'pydoc_data', 'pydoc_data.topics', 'jedi.api.keywords', 'jedi.api.completion_cache', 'jedi.api.helpers', 'jedi.api.classes', 'jedi.api.interpreter', 'jedi.api.strings', 'jedi.api.file_name', 'jedi.api.completion', 'filecmp', 'jedi.api.environment', 'jedi.inference.references', 'jedi.api.project', 'jedi.api.errors', 'jedi.api.refactoring', 'jedi.api.refactoring.extract', 'jedi.inference.gradual.utils', 'jedi.api', 'jedi.plugins.stdlib', 'jedi.plugins.flask', 'jedi.plugins.pytest', 'jedi.plugins.django', 'jedi.plugins.registry', 'jedi', 'IPython.core.completer', 'IPython.terminal.ptutils', 'IPython.terminal.shortcuts', 'IPython.terminal.debugger', 'IPython.lib.clipboard', 'IPython.terminal.magics', 'IPython.terminal.pt_inputhooks', 'IPython.terminal.prompts', 'IPython.terminal.interactiveshell', 'IPython.core.magics.auto', 'IPython.core.magics.basic', 'email', 'http', 'email.errors', 'email.quoprimime', 'email.base64mime', 'quopri', 'email.encoders', 'email.charset', 'email.header', 'calendar', 'email._parseaddr', 'email.utils', 'email._policybase', 'email.feedparser', 'email.parser', 'uu', 'email._encoded_words', 'email.iterators', 'email.message', 'http.client', 'urllib.response', 'urllib.error', 'urllib.request', 'IPython.core.magics.code', 'IPython.core.magics.config', 'IPython.core.magics.display', 'timeit', '_lsprof', 'profile', 'cProfile', 'dataclasses', 'pstats', 'IPython.utils.module_paths', 'IPython.utils.timing', 'IPython.core.magics.execution', 'IPython.core.magics.extension', 'IPython.core.magics.history', 'IPython.core.magics.logging', 'IPython.core.magics.namespace', 'IPython.core.magics.osm', 'IPython.core.magics.packaging', 'IPython.core.pylabtools', 'IPython.core.magics.pylab', 'IPython.lib.backgroundjobs', 'IPython.core.magics.script', 'IPython.core.magics', 'IPython.core.shellapp', 'IPython.extensions', 'IPython.extensions.storemagic', 'IPython.terminal.ipapp', 'IPython.terminal.embed', 'IPython.utils.frame', 'IPython', 'jupyter_client._version', 'zmq.backend.select', 'cython_runtime', 'zmq.backend.cython.constants', '_cython_0_29_21', 'zmq.backend.cython.error', 'zmq.error', 'zmq.backend.cython.message', 'zmq.backend.cython.context', 'zmq.backend.cython.socket', 'zmq.backend.cython.utils', 'zmq.backend.cython._poll', 'zmq.backend.cython._version', 'zmq.backend.cython._device', 'zmq.backend.cython._proxy_steerable', 'zmq.backend.cython', 'zmq.backend', 'zmq.utils', 'zmq.utils.constant_names', 'zmq.sugar.constants', 'zmq.sugar.attrsettr', 'zmq.sugar.poll', 'zmq.utils.strtypes', 'zmq.utils.jsonapi', 'zmq.sugar.socket', 'zmq.sugar.context', 'zmq.sugar.frame', 'zmq.sugar.tracker', 'zmq.sugar.version', 'zmq.sugar.stopwatch', 'zmq.sugar', 'zmq', 'jupyter_client.localinterfaces', 'jupyter_core.version', 'jupyter_core', 'jupyter_core.paths', 'jupyter_client.connect', 'traitlets.log', 'jupyter_client.launcher', 'jupyter_client.channelsabc', 'jupyter_client.channels', 'jupyter_client.clientabc', 'jupyter_client.client', 'ipython_genutils.importstring', 'jupyter_client.kernelspec', 'jupyter_client.managerabc', 'jupyter_client.manager', 'jupyter_client.blocking.channels', 'jupyter_client.blocking.client', 'jupyter_client.blocking', 'zmq._future', 'zmq.asyncio', 'jupyter_client.asynchronous.channels', 'jupyter_client.asynchronous.client', 'jupyter_client.asynchronous', 'uuid', 'jupyter_client.multikernelmanager', 'jupyter_client', 'ipykernel.connect', 'ipykernel', 'tornado', 'numbers', 'logging.handlers', 'tornado.speedups', 'tornado.util', 'tornado.escape', '_curses', 'curses', 'tornado.log', 'tornado.concurrent', 'tornado.ioloop', 'tornado.platform', 'tornado.gen', 'tornado.platform.asyncio', 'zmq.eventloop.ioloop', 'zmq.eventloop', 'zmq.eventloop.zmqstream', 'imp', 'hmac', 'dateutil._version', 'dateutil', 'six', '_decimal', 'decimal', 'dateutil._common', 'dateutil.relativedelta', 'six.moves', 'dateutil.tz._common', 'dateutil.tz._factories', 'dateutil.tz.tz', 'dateutil.tz', 'dateutil.parser._parser', 'dateutil.parser.isoparser', 'dateutil.parser', '_strptime', 'jupyter_client.jsonutil', 'jupyter_client.adapter', 'jupyter_client.session', 'ipykernel.iostream', 'ipykernel.heartbeat', 'IPython.utils.tokenutil', 'tornado.locks', 'tornado.queues', 'ipykernel.jsonutil', 'ipykernel.kernelbase', 'ipykernel.comm.comm', 'ipykernel.comm.manager', 'ipykernel.comm', 'IPython.core.payloadpage', 'ipykernel.displayhook', 'ipykernel.codeutil', 'ipykernel.pickleutil', 'ipykernel.serialize', 'ipykernel.datapub', 'ipykernel.zmqshell', 'distutils', 'distutils.version', 'ipykernel.eventloops', 'ipykernel.ipkernel', 'ipykernel.parentpoller', 'ipykernel.kernelapp', 'faulthandler', 'IPython.core.completerlib', 'storemagic', 'ipyleaflet._version', 'ipywidgets._version', 'ipywidgets.widgets.widget', 'ipywidgets.widgets.util', 'ipywidgets.widgets.trait_types', 'ipywidgets.widgets.widget_layout', 'ipywidgets.widgets.widget_style', 'ipywidgets.widgets.domwidget', 'ipywidgets.widgets.valuewidget', 'ipywidgets.widgets.widget_core', 'ipywidgets.widgets.widget_description', 'ipywidgets.widgets.widget_bool', 'ipywidgets.widgets.widget_button', 'ipywidgets.widgets.docutils', 'ipywidgets.widgets.widget_box', 'ipywidgets.widgets.widget_int', 'ipywidgets.widgets.widget_float', 'ipywidgets.widgets.widget_color', 'ipywidgets.widgets.widget_date', 'ipywidgets.widgets.widget_output', 'ipywidgets.widgets.widget_selection', 'ipywidgets.widgets.widget_selectioncontainer', 'ipywidgets.widgets.widget_string', 'ipywidgets.widgets.widget_controller', 'ipywidgets.widgets.interaction', 'ipywidgets.widgets.widget_link', 'ipywidgets.widgets.widget_media', 'ipywidgets.widgets.widget_templates', 'ipywidgets.widgets.widget_upload', 'ipywidgets.widgets', 'ipywidgets', 'ipywidgets.embed', 'markupsafe._compat', 'markupsafe._speedups', 'markupsafe', 'jinja2._compat', 'jinja2.utils', 'jinja2.bccache', 'jinja2.nodes', 'jinja2.exceptions', 'jinja2.visitor', 'jinja2.idtracking', 'jinja2.optimizer', 'jinja2.compiler', 'jinja2.runtime', 'jinja2.filters', 'jinja2.tests', 'jinja2.defaults', 'jinja2._identifier', 'jinja2.lexer', 'jinja2.parser', 'jinja2.environment', 'jinja2.loaders', 'jinja2', 'numpy._globals', 'numpy.__config__', 'numpy.version', 'numpy._distributor_init', 'numpy.core._multiarray_umath', 'numpy.compat._inspect', 'numpy.compat.py3k', 'numpy.compat', 'numpy.core.overrides', 'numpy.core.multiarray', 'numpy.core.umath', 'numpy.core._string_helpers', 'numpy.core._dtype', 'numpy.core._type_aliases', 'numpy.core.numerictypes', 'numpy.core._asarray', 'numpy.core._exceptions', 'numpy.core._methods', 'numpy.core.fromnumeric', 'numpy.core.shape_base', 'numpy.core._ufunc_config', 'numpy.core.arrayprint', 'numpy.core.numeric', 'numpy.core.defchararray', 'numpy.core.records', 'numpy.core.memmap', 'numpy.core.function_base', 'numpy.core.machar', 'numpy.core.getlimits', 'numpy.core.einsumfunc', 'numpy.core._multiarray_tests', 'numpy.core._add_newdocs', 'numpy.core._add_newdocs_scalars', 'numpy.core._dtype_ctypes', 'numpy.core._internal', 'numpy._pytesttester', 'numpy.core', 'numpy.lib.mixins', 'numpy.lib.ufunclike', 'numpy.lib.type_check', 'numpy.lib.scimath', 'numpy.lib.twodim_base', 'numpy.linalg.lapack_lite', 'numpy.linalg._umath_linalg', 'numpy.linalg.linalg', 'numpy.linalg', 'numpy.matrixlib.defmatrix', 'numpy.matrixlib', 'numpy.lib.histograms', 'numpy.lib.function_base', 'numpy.lib.stride_tricks', 'numpy.lib.index_tricks', 'numpy.lib.nanfunctions', 'numpy.lib.shape_base', 'numpy.lib.polynomial', 'numpy.lib.utils', 'numpy.lib.arraysetops', 'numpy.lib.format', 'numpy.lib._datasource', 'numpy.lib._iotools', 'numpy.lib.npyio', 'numpy.lib.arrayterator', 'numpy.lib.arraypad', 'numpy.lib._version', 'numpy.lib', 'numpy.fft._pocketfft_internal', 'numpy.fft._pocketfft', 'numpy.fft.helper', 'numpy.fft', 'numpy.polynomial.polyutils', 'numpy.polynomial._polybase', 'numpy.polynomial.polynomial', 'numpy.polynomial.chebyshev', 'numpy.polynomial.legendre', 'numpy.polynomial.hermite', 'numpy.polynomial.hermite_e', 'numpy.polynomial.laguerre', 'numpy.polynomial', 'numpy.random._common', 'secrets', 'numpy.random.bit_generator', 'numpy.random._bounded_integers', 'numpy.random._mt19937', 'numpy.random.mtrand', 'numpy.random._philox', 'numpy.random._pcg64', 'numpy.random._sfc64', 'numpy.random._generator', 'numpy.random._pickle', 'numpy.random', 'numpy.ctypeslib', 'numpy.ma.core', 'numpy.ma.extras', 'numpy.ma', 'numpy', 'pytz.exceptions', 'pytz.lazy', 'pytz.tzinfo', 'pytz.tzfile', 'pytz', 'mmap', 'pandas._typing', 'pandas.compat', 'pandas.compat.numpy', 'pandas._libs.tslibs.dtypes', 'pandas._libs.tslibs.base', 'pandas._libs.tslibs.np_datetime', 'pandas._libs.tslibs.nattype', 'pandas._libs.tslibs.timezones', 'pandas._libs.tslibs.ccalendar', 'pandas._libs.tslibs.tzconversion', 'pandas._libs.tslibs.timedeltas', 'pandas._config.config', 'pandas._config.dates', 'pandas._config.display', 'pandas._config', 'pandas._config.localization', 'pandas._libs.tslibs.strptime', 'pandas._libs.tslibs.fields', 'pandas._libs.tslibs.timestamps', 'dateutil.easter', 'pandas._libs.properties', 'pandas._libs.tslibs.offsets', 'pandas._libs.tslibs.parsing', 'pandas._libs.tslibs.conversion', 'pandas._libs.tslibs.period', 'pandas._libs.tslibs.vectorized', 'pandas._libs.tslibs', 'pandas._libs.ops_dispatch', 'pandas._libs.missing', 'pandas._libs.hashtable', 'pandas._libs.algos', 'pandas._libs.interval', 'pandas._libs', 'pandas._libs.tslib', 'pandas._libs.lib', 'pandas.core', 'pandas.core.config_init', 'pandas.core.dtypes', 'pandas.errors', 'pandas.core.dtypes.generic', 'pandas.core.dtypes.base', 'pandas.core.dtypes.inference', 'pandas.core.dtypes.dtypes', 'pandas.core.dtypes.common', 'pandas.core.dtypes.missing', 'pandas.util._decorators', 'pandas.core.util', 'pandas._libs.hashing', 'pandas.core.util.hashing', 'pandas.util', 'pandas.util._validators', 'pandas.core.dtypes.cast', 'pandas.core.common', 'pandas.core.construction', 'pandas.core.indexers', 'pandas.core.algorithms', 'pandas.compat.numpy.function', 'pandas._libs.ops', 'pandas.core.ops.roperator', 'pandas.core.ops.missing', 'pandas.core.ops.dispatch', 'pandas.core.ops.invalid', 'pandas.core.ops.array_ops', 'pandas.core.ops.common', 'pandas.core.ops.docstrings', 'pandas.core.ops.mask_ops', 'pandas.core.ops.methods', 'pandas.core.ops', 'pandas.compat._optional', 'pandas.core.missing', 'pandas.core.sorting', 'pandas.core.arrays.base', 'pandas.core.nanops', 'pandas.core.array_algos', 'pandas.core.array_algos.masked_reductions', 'pandas.core.arraylike', 'pandas.core.arrays.masked', 'pandas.core.arrays.boolean', '_csv', 'csv', 'pandas.core.accessor', 'pandas.core.array_algos.transforms', 'pandas.core.arrays._mixins', 'pandas.core.base', 'pandas.core.strings.accessor', 'pandas.core.strings.base', 'pandas.core.strings', 'pandas.core.strings.object_array', 'pandas.io', 'pandas.io.formats', 'pandas.io.formats.console', 'pandas.core.arrays.categorical', 'pandas.tseries', 'pandas.tseries.frequencies', 'pandas.core.arrays.datetimelike', 'pandas.core.arrays._ranges', 'pandas.tseries.offsets', 'pandas.core.arrays.datetimes', 'pandas.core.tools', 'pandas.core.tools.numeric', 'pandas.core.arrays.numeric', 'pandas.core.arrays.floating', 'pandas.core.arrays.integer', 'pandas.core.indexes', 'pandas._libs.index', 'pandas._libs.join', 'pandas._libs.sparse', 'pandas.core.arrays.sparse.dtype', 'pandas.io.formats.printing', 'pandas.core.arrays.sparse.array', 'pandas.core.arrays.sparse.accessor', 'pandas.core.arrays.sparse', 'pandas.core.dtypes.concat', 'pandas.core.indexes.frozen', 'pandas.core.indexes.base', 'pandas.core.arrays.interval', 'pandas.core.arrays.numpy_', 'pandas.core.arrays.period', 'pandas.core.arrays.string_', 'pandas.core.arrays.timedeltas', 'pandas.core.arrays', 'pandas.core.flags', 'pandas._libs.reduction', 'pandas.core.indexes.extension', 'pandas.core.indexes.category', 'pandas.core.indexes.numeric', 'pandas.core.tools.timedeltas', 'pandas.core.indexes.datetimelike', 'pandas.core.tools.times', 'pandas.core.indexes.datetimes', 'pandas.util._exceptions', 'pandas.core.indexes.multi', 'pandas.core.indexes.timedeltas', 'pandas.core.indexes.interval', 'pandas.core.indexes.period', 'pandas.core.indexes.range', 'pandas.core.indexes.api', 'pandas.core.aggregation', 'pandas._libs.indexing', 'pandas.core.indexing', 'pandas._libs.internals', 'pandas._libs.writers', 'pandas.core.array_algos.replace', 'pandas.core.internals.blocks', 'pandas.core.internals.ops', 'pandas.core.internals.managers', 'pandas.core.internals.concat', 'pandas.core.internals', 'pandas.core.shared_docs', 'pandas._libs.window', 'pandas._libs.window.aggregations', 'pandas.core.util.numba_', 'pandas.core.window.common', 'pandas._libs.window.indexers', 'pandas.core.window.indexers', 'pandas.core.window.numba_', 'pandas.core.groupby.base', 'pandas.core.window.rolling', 'pandas.core.window.ewm', 'pandas.core.window.expanding', 'pandas.core.window', 'pandas.core.reshape', 'pandas.core.reshape.concat', 'gzip', 'zipfile', 'pandas.io.common', 'pandas.io.formats.format', 'pandas.core.generic', 'pandas.core.internals.construction', 'pandas.core.reshape.util', 'pandas.core.reshape.melt', 'pandas._libs.reshape', 'pandas.core.indexes.accessors', 'pandas.arrays', 'pandas.core.tools.datetimes', 'pandas.plotting._core', 'pandas.plotting._misc', 'pandas.plotting', 'pandas.core.series', 'pandas.io.formats.info', 'pandas.core.frame', 'pandas._libs.groupby', 'pandas.core.groupby.numba_', 'pandas.core.groupby.categorical', 'pandas.core.groupby.grouper', 'pandas.core.groupby.ops', 'pandas.core.groupby.groupby', 'pandas.core.groupby.generic', 'pandas.core.groupby', 'pandas.core.api', 'pandas.tseries.api', 'pandas.core.computation', 'pandas.core.computation.common', 'pandas.core.computation.align', 'pandas.compat.chainmap', 'pandas.core.computation.scope', 'pandas.core.computation.ops', 'pandas.core.computation.engines', 'pandas.core.computation.parsing', 'pandas.core.computation.expr', 'pandas.core.computation.eval', 'pandas.core.computation.api', 'pandas.core.reshape.merge', 'pandas.core.reshape.pivot', 'pandas.core.reshape.reshape', 'pandas.core.reshape.tile', 'pandas.core.reshape.api', 'pandas.api.extensions', 'pandas.api.indexers', 'pandas.core.dtypes.api', 'pandas.api.types', 'pandas.api', 'pandas.util._print_versions', 'pandas.io.clipboards', 'pandas._libs.parsers', 'pandas.io.excel._util', 'pandas.io.date_converters', 'pandas.io.parsers', 'pandas.io.excel._odfreader', 'pandas.io.excel._openpyxl', 'pandas.io.excel._pyxlsb', 'pandas.io.excel._xlrd', 'pandas.io.excel._base', 'pandas._libs.json', 'pandas.io.formats._color_data', 'pandas.io.formats.css', 'pandas.io.formats.excel', 'pandas.io.excel._odswriter', 'pandas.io.excel._xlsxwriter', 'pandas.io.excel._xlwt', 'pandas.io.excel', 'pandas.io.feather_format', 'pandas.io.gbq', 'pandas.io.html', 'pandas.io.json._normalize', 'pandas.io.json._table_schema', 'pandas.io.json._json', 'pandas.io.json', 'pandas.io.orc', 'pandas.io.parquet', 'pandas.compat.pickle_compat', 'pandas.io.pickle', 'pandas.core.computation.pytables', 'pandas.io.pytables', 'pandas.io.sas.sasreader', 'pandas.io.sas', 'pandas.io.spss', 'pandas.io.sql', 'pandas.io.stata', 'pandas.io.api', 'pandas.util._tester', 'cmath', 'pandas._libs.testing', 'pandas._testing', 'pandas.testing', 'pandas._version', 'pandas', 'branca.utilities', 'xml.parsers', 'pyexpat.errors', 'pyexpat.model', 'pyexpat', 'xml.parsers.expat.model', 'xml.parsers.expat.errors', 'xml.parsers.expat', 'plistlib', 'pkg_resources.extern', 'pkg_resources._vendor', 'pkg_resources._vendor.six', 'pkg_resources.extern.six', 'pkg_resources._vendor.six.moves', 'pkg_resources.extern.six.moves', 'pkg_resources._vendor.appdirs', 'pkg_resources.extern.appdirs', 'pkg_resources._vendor.packaging.__about__', 'pkg_resources._vendor.packaging', 'pkg_resources.extern.packaging', 'pkg_resources.extern.packaging._structures', 'pkg_resources.extern.packaging._typing', 'pkg_resources.extern.packaging.version', 'pkg_resources.extern.packaging._compat', 'pkg_resources.extern.packaging.utils', 'pkg_resources.extern.packaging.specifiers', 'pkg_resources._vendor.pyparsing', 'pkg_resources.extern.pyparsing', 'pkg_resources._vendor.six.moves.urllib', 'pkg_resources.extern.six.moves.urllib', 'pkg_resources.extern.packaging.markers', 'pkg_resources.extern.packaging.requirements', 'pkg_resources', 'encodings.unicode_escape', 'branca.element', 'branca.colormap', 'branca._version', 'branca', 'shapely', 'shapely.affinity', 'ctypes.util', 'shapely.errors', 'shapely.ctypes_declarations', 'shapely.geos', 'shapely.topology', 'shapely.coords', 'shapely.algorithms', 'shapely.algorithms.cga', 'shapely.linref', 'shapely.predicates', 'shapely.impl', 'shapely.geometry.base', 'shapely.geometry.proxy', 'shapely.geometry.point', 'shapely.geometry.linestring', 'shapely.geometry.polygon', 'shapely.geometry.multipoint', 'shapely.geometry.multilinestring', 'shapely.geometry.multipolygon', 'shapely.geometry.collection', 'shapely.geometry.geo', 'shapely.speedups._speedups', 'shapely.speedups', 'shapely.geometry', 'shapely.wkt', 'ipyleaflet.projections', 'ipyleaflet.leaflet', 'ipyleaflet.basemaps', 'ipyleaflet', 'importlib._common', 'importlib.resources', 'certifi.core', 'certifi', 'distutils.errors', 'distutils.dep_util', 'distutils.debug', 'distutils.log', 'distutils.spawn', 'distutils.util', 'pyproj.compat', 'pyproj.exceptions', 'pyproj._datadir', 'pyproj._network', 'pyproj.network', 'pyproj._show_versions', '_cython_0_29_14', 'pyproj._compat', 'pyproj.aoi', 'pyproj.crs.datum', 'pyproj.enums', 'pyproj.crs.enums', 'pyproj._geod', 'pyproj.list', 'pyproj.utils', 'pyproj.geod', 'pyproj._crs', 'pyproj.crs.coordinate_operation', 'pyproj.crs._cf1x8', 'pyproj.crs.coordinate_system', 'pyproj.crs.crs', 'pyproj.crs', 'pyproj.database', 'pyproj._transformer', 'pyproj.datadir', 'pyproj._sync', 'pyproj.sync', 'pyproj.transformer', 'pyproj.proj', 'pyproj', 'rtree.finder', 'rtree.exceptions', 'rtree.core', 'rtree.index', 'rtree', 'geopandas._compat', 'geopandas._config', 'shapely.prepared', 'shapely.algorithms.polylabel', 'shapely.ops', 'shapely.wkb', 'geopandas._vectorized', 'geopandas.sindex', 'geopandas.array', 'geopandas.base', 'geopandas.plotting', 'geopandas.geoseries', 'geopandas.io', 'geopandas.geodataframe', 'fiona._loading', 'fiona.compat', 'fiona.vfs', 'fiona._err', 'fiona.errors', 'fiona._geometry', 'fiona._shim', 'fiona._env', 'attr._config', 'attr.exceptions', 'attr.setters', 'attr._compat', 'attr._make', 'attr.converters', 'attr.filters', 'attr.validators', 'attr._funcs', 'attr._version_info', 'attr._next_gen', 'attr', 'fiona.path', 'fiona.session', 'fiona.env', 'fiona.rfc3339', 'fiona.schema', 'fiona.drvsupport', 'fiona.ogrext', 'fiona.logutils', 'fiona._crs', 'fiona.collection', 'fiona.io', 'fiona._show_versions', 'fiona', 'geopandas.io.file', 'geopandas.io.arrow', 'geopandas.io.sql', 'geopandas.tools.crs', 'geopandas.tools.geocoding', 'geopandas.tools.overlay', 'geopandas.tools.sjoin', 'geopandas.tools.util', 'geopandas.tools.clip', 'geopandas.tools', 'geopandas.tools._show_versions', 'geopandas.datasets', 'geopandas._version', 'geopandas', 'sklearn._config', 'sklearn._distributor_init', 'sklearn.__check_build._check_build', 'sklearn.__check_build', 'scipy._lib._testutils', 'scipy._lib', 'scipy._lib.deprecation', 'scipy.__config__', 'scipy.version', 'scipy._distributor_init', 'scipy._lib._pep440', 'scipy._lib._ccallback_c', 'scipy._lib._ccallback', 'scipy', 'scipy._lib._util', 'scipy.sparse.sputils', 'scipy.sparse.base', 'scipy.sparse._sparsetools', 'scipy.sparse.data', 'scipy.sparse.dia', 'scipy.sparse._index', 'scipy.sparse.compressed', 'scipy.sparse.csr', 'scipy.sparse.csc', 'scipy.sparse._csparsetools', 'scipy.sparse.lil', 'scipy.sparse.dok', 'scipy.sparse.coo', 'scipy.sparse.bsr', 'scipy.sparse.construct', 'scipy.sparse.extract', 'scipy.sparse._matrix_io', 'scipy.sparse.csgraph._laplacian', 'scipy.sparse.csgraph._tools', 'scipy.sparse.csgraph._validation', 'scipy.sparse.csgraph._shortest_path', 'scipy.sparse.csgraph._traversal', 'scipy.sparse.csgraph._min_spanning_tree', 'scipy.sparse.csgraph._flow', 'scipy.sparse.csgraph._matching', 'scipy.sparse.csgraph._reordering', 'scipy.sparse.csgraph', 'scipy.sparse', 'sklearn.utils.murmurhash', 'joblib.hashing', 'multiprocessing.process', 'multiprocessing.reduction', 'multiprocessing.context', '__mp_main__', 'multiprocessing', 'multiprocessing.util', 'joblib.disk', 'joblib.logger', 'joblib.func_inspect', 'joblib.backports', 'joblib.compressor', 'joblib.numpy_pickle_utils', 'joblib.numpy_pickle_compat', 'joblib.numpy_pickle', 'joblib._store_backends', 'joblib.memory', '_multiprocessing', 'joblib._multiprocessing_helpers', 'joblib._deprecated_my_exceptions', 'joblib.my_exceptions', 'joblib.externals', 'joblib.externals.loky._base', 'multiprocessing.connection', 'joblib.externals.loky.backend.compat_posix', 'joblib.externals.loky.backend.compat', 'joblib.externals.loky.backend.process', 'joblib.externals.loky.backend.context', 'multiprocessing.synchronize', 'joblib.externals.loky.backend', 'joblib.externals.loky.backend._posix_reduction', 'joblib.externals.cloudpickle.compat', 'joblib.externals.cloudpickle.cloudpickle', 'joblib.externals.cloudpickle.cloudpickle_fast', 'joblib.externals.cloudpickle', 'joblib.externals.loky.backend.reduction', 'multiprocessing.queues', 'joblib.externals.loky.backend.queues', 'joblib.externals.loky.backend.utils', 'concurrent.futures.process', 'joblib.externals.loky.process_executor', 'joblib.externals.loky.reusable_executor', 'joblib.externals.loky.cloudpickle_wrapper', 'joblib.externals.loky', 'joblib.externals.loky.backend.spawn', 'joblib.externals.loky.backend.resource_tracker', 'joblib._memmapping_reducer', 'multiprocessing.pool', 'joblib.pool', 'joblib.executor', 'joblib._parallel_backends', 'joblib.parallel', 'joblib', 'scipy.spatial.ckdtree', 'scipy.spatial.kdtree', 'scipy._lib.messagestream', 'scipy.spatial.qhull', 'scipy.spatial._voronoi', 'scipy.spatial._spherical_voronoi', 'scipy._lib.decorator', 'scipy.spatial._plotutils', 'scipy.linalg._fblas', 'scipy.linalg.blas', 'scipy.linalg._flapack', 'scipy.linalg.lapack', 'scipy.linalg.misc', 'scipy.linalg._flinalg', 'scipy.linalg.flinalg', 'scipy.linalg.decomp', 'scipy.linalg.decomp_svd', 'scipy.linalg._solve_toeplitz', 'scipy.linalg.basic', 'scipy.linalg.decomp_lu', 'scipy.linalg._decomp_ldl', 'scipy.linalg.decomp_cholesky', 'scipy.linalg.decomp_qr', 'scipy.linalg._decomp_qz', 'scipy.linalg.decomp_schur', 'scipy.linalg._decomp_polar', 'scipy.linalg.special_matrices', 'scipy.linalg._expm_frechet', 'scipy.linalg._matfuncs_sqrtm_triu', 'scipy.linalg._matfuncs_sqrtm', 'scipy.linalg.matfuncs', 'scipy.linalg._solvers', 'scipy.linalg._procrustes', 'scipy.linalg.cython_blas', 'scipy.linalg.cython_lapack', 'scipy.linalg._decomp_update', 'scipy.linalg._sketches', 'scipy.linalg._decomp_cossin', 'scipy.linalg', 'scipy.spatial._procrustes', 'scipy.spatial._distance_wrap', 'scipy.spatial._hausdorff', 'scipy.special.sf_error', 'scipy.special._ufuncs_cxx', 'scipy.special._ufuncs', 'scipy.special.specfun', 'scipy.special.orthogonal', 'scipy.special._comb', 'scipy.special._basic', 'scipy.special._logsumexp', 'scipy.special.spfun_stats', 'scipy.special._ellip_harm_2', 'scipy.special._ellip_harm', 'scipy.special._lambertw', 'scipy.special._spherical_bessel', 'scipy.special', 'scipy.spatial.distance', 'scipy.spatial._geometric_slerp', 'scipy.constants.codata', 'scipy.constants.constants', 'scipy.constants', 'scipy.spatial.transform._rotation_groups', 'scipy.spatial.transform.rotation', 'scipy.spatial.transform._rotation_spline', 'scipy.spatial.transform', 'scipy.spatial', 'scipy.ndimage._ni_support', 'scipy.ndimage._nd_image', 'scipy._lib.doccer', 'scipy.ndimage._ni_docstrings', 'scipy.ndimage.filters', 'scipy.ndimage.fourier', 'scipy.ndimage.interpolation', '_ni_label', 'scipy.ndimage._ni_label', 'scipy.ndimage.morphology', 'scipy.ndimage.measurements', 'scipy.ndimage', 'scipy.stats._distr_params', 'scipy.optimize.minpack2', 'scipy.optimize.linesearch', 'scipy.sparse.linalg.isolve._iterative', 'scipy.sparse.linalg.interface', 'scipy.sparse.linalg.isolve.utils', 'scipy._lib._threadsafety', 'scipy.sparse.linalg.isolve.iterative', 'scipy.sparse.linalg.isolve.minres', 'scipy.sparse.linalg.isolve._gcrotmk', 'scipy.sparse.linalg.isolve.lgmres', 'scipy.sparse.linalg.isolve.lsqr', 'scipy.sparse.linalg.isolve.lsmr', 'scipy.sparse.linalg.isolve', 'scipy.sparse.linalg.dsolve._superlu', 'scipy.sparse.linalg.dsolve.linsolve', 'scipy.sparse.linalg.dsolve._add_newdocs', 'scipy.sparse.linalg.dsolve', 'scipy.sparse.linalg.eigen.arpack._arpack', 'scipy.sparse.linalg.eigen.lobpcg.lobpcg', 'scipy.sparse.linalg.eigen.lobpcg', 'scipy.sparse.linalg.eigen.arpack.arpack', 'scipy.sparse.linalg.eigen.arpack', 'scipy.sparse.linalg.eigen', 'scipy.sparse.linalg._expm_multiply', 'scipy.sparse.linalg.matfuncs', 'scipy.sparse.linalg._onenormest', 'scipy.sparse.linalg._norm', 'scipy.sparse.linalg', 'scipy.optimize._group_columns', 'scipy.optimize._numdiff', 'scipy.optimize._hessian_update_strategy', 'scipy.optimize._differentiable_functions', 'scipy.optimize.optimize', 'scipy.optimize._trustregion', 'scipy.optimize._trustregion_dogleg', 'scipy.optimize._trustregion_ncg', 'scipy.optimize._trlib._trlib', 'scipy.optimize._trlib', 'scipy.optimize._trustregion_krylov', 'scipy.optimize._trustregion_exact', 'unittest.util', 'unittest.result', 'unittest.case', 'unittest.suite', 'unittest.loader', 'unittest.signals', 'unittest.runner', 'unittest.main', 'unittest', 'numpy.testing._private', 'numpy.testing._private.utils', 'numpy.testing._private.decorators', 'numpy.testing._private.nosetester', 'numpy.testing', 'scipy.optimize._constraints', 'scipy.optimize._trustregion_constr.projections', 'scipy.optimize._trustregion_constr.qp_subproblem', 'scipy.optimize._trustregion_constr.equality_constrained_sqp', 'scipy.optimize._trustregion_constr.canonical_constraint', 'scipy.optimize._trustregion_constr.tr_interior_point', 'scipy.optimize._trustregion_constr.report', 'scipy.optimize._trustregion_constr.minimize_trustregion_constr', 'scipy.optimize._trustregion_constr', 'scipy.optimize._lbfgsb', 'scipy.optimize.lbfgsb', 'scipy.optimize.moduleTNC', 'scipy.optimize.tnc', 'scipy.optimize._cobyla', 'scipy.optimize.cobyla', 'scipy.optimize._slsqp', 'scipy.optimize.slsqp', 'scipy.optimize._minimize', 'scipy.optimize._minpack', 'scipy.optimize._lsq.common', 'scipy.optimize._lsq.trf', 'scipy.optimize._lsq.dogbox', 'scipy.optimize._lsq.least_squares', 'scipy.optimize._lsq.givens_elimination', 'scipy.optimize._lsq.trf_linear', 'scipy.optimize._lsq.bvls', 'scipy.optimize._lsq.lsq_linear', 'scipy.optimize._lsq', 'scipy.optimize.minpack', 'scipy.optimize._spectral', 'scipy.optimize.nonlin', 'scipy.optimize._root', 'scipy.optimize._zeros', 'scipy.optimize.zeros', 'scipy.optimize._root_scalar', 'scipy.optimize.__nnls', 'scipy.optimize._nnls', 'scipy.optimize._basinhopping', 'scipy.linalg._interpolative', 'scipy.linalg._interpolative_backend', 'scipy.linalg.interpolative', 'scipy.optimize._remove_redundancy', 'scipy.optimize._linprog_util', 'scipy.optimize._linprog_ip', 'scipy.optimize._linprog_simplex', 'scipy.optimize._bglu_dense', 'scipy.optimize._linprog_rs', 'scipy.optimize._highs', 'highs_wrapper', 'scipy.optimize._highs.highs_wrapper', 'constants', 'scipy.optimize._highs.constants', 'scipy.optimize._linprog_highs', 'scipy.optimize._linprog_doc', 'scipy.optimize._linprog', 'scipy.optimize._lsap_module', 'scipy.optimize._lsap', 'scipy.optimize._differentialevolution', 'scipy.optimize._shgo_lib', 'scipy.optimize._shgo_lib.sobol_seq', 'scipy.optimize._shgo_lib.triangulation', 'scipy.optimize._shgo', 'scipy.optimize._dual_annealing', 'scipy.optimize._qap', 'scipy.optimize', 'scipy.integrate._quadrature', 'scipy.integrate._odepack', 'scipy.integrate.odepack', 'scipy.integrate._quadpack', 'scipy.integrate.quadpack', 'scipy.integrate.vode', 'scipy.integrate._dop', 'scipy.integrate.lsoda', 'scipy.integrate._ode', 'scipy.integrate._bvp', 'scipy.integrate._ivp.common', 'scipy.integrate._ivp.base', 'scipy.integrate._ivp.bdf', 'scipy.integrate._ivp.radau', 'scipy.integrate._ivp.dop853_coefficients', 'scipy.integrate._ivp.rk', 'scipy.integrate._ivp.lsoda', 'scipy.integrate._ivp.ivp', 'scipy.integrate._ivp', 'scipy.integrate._quad_vec', 'scipy.integrate', 'scipy.misc.doccer', 'scipy.misc.common', 'scipy.misc', 'scipy.stats._constants', 'scipy.stats._distn_infrastructure', 'scipy.interpolate._fitpack', 'scipy.interpolate.dfitpack', 'scipy.interpolate._fitpack_impl', 'scipy.interpolate._bspl', 'scipy.interpolate._bsplines', 'scipy.interpolate.fitpack', 'scipy.interpolate.polyint', 'scipy.interpolate._ppoly', 'scipy.interpolate.fitpack2', 'scipy.interpolate.interpnd', 'scipy.interpolate.interpolate', 'scipy.interpolate.rbf', 'scipy.interpolate._cubic', 'scipy.interpolate.ndgriddata', 'scipy.interpolate._pade', 'scipy.interpolate', 'scipy.special.cython_special', 'scipy.stats._stats', 'scipy.stats._rvs_sampling', 'scipy.stats._tukeylambda_stats', 'scipy.stats._ksstats', 'scipy.stats._continuous_distns', 'scipy.stats._discrete_distns', 'scipy.stats.distributions', 'scipy._lib._bunch', 'scipy.stats._stats_mstats_common', 'scipy.stats.mstats_basic', 'scipy.stats._wilcoxon_data', 'scipy.stats._hypotests', 'scipy.stats.stats', 'scipy.stats.statlib', 'scipy.stats.contingency', 'scipy.stats.morestats', 'scipy.stats._binned_statistic', 'scipy.stats.mvn', 'scipy.stats.kde', 'scipy.stats.mstats_extras', 'scipy.stats.mstats', 'scipy.stats._multivariate', 'scipy.stats', 'sklearn.utils.deprecation', 'sklearn.utils.fixes', 'sklearn.exceptions', 'sklearn.utils.validation', 'sklearn.utils.class_weight', 'sklearn.utils._joblib', 'sklearn.utils._estimator_html_repr', 'sklearn.utils', 'sklearn.utils._tags', 'sklearn.base', 'sklearn.utils._openmp_helpers', 'sklearn.utils._show_versions', 'sklearn', 'sklearn.neighbors._typedefs', 'sklearn.neighbors._dist_metrics', 'sklearn.neighbors._ball_tree', 'sklearn.neighbors._kd_tree', 'sklearn.utils.multiclass', 'sklearn.utils._logistic_sigmoid', 'sklearn.utils.sparsefuncs_fast', 'sklearn.utils.extmath', 'sklearn.utils.sparsefuncs', 'sklearn.preprocessing._function_transformer', 'sklearn.preprocessing._csr_polynomial_expansion', 'sklearn.utils._encode', 'sklearn.preprocessing._encoders', 'sklearn.preprocessing._data', 'sklearn.preprocessing._label', 'sklearn.preprocessing._discretization', 'sklearn.preprocessing', 'sklearn.metrics._base', 'sklearn.metrics._ranking', 'sklearn.metrics._classification', 'sklearn.metrics.cluster._expected_mutual_info_fast', 'sklearn.metrics.cluster._supervised', 'sklearn.utils._mask', 'sklearn.metrics._pairwise_fast', 'sklearn.metrics.pairwise', 'sklearn.metrics.cluster._unsupervised', 'sklearn.metrics.cluster._bicluster', 'sklearn.metrics.cluster', 'sklearn._loss', 'sklearn._loss.glm_distribution', 'sklearn.utils.stats', 'sklearn.metrics._regression', 'sklearn.metrics._scorer', 'sklearn.metrics._plot', 'sklearn.metrics._plot.base', 'sklearn.metrics._plot.det_curve', 'sklearn.metrics._plot.roc_curve', 'sklearn.metrics._plot.precision_recall_curve', 'sklearn.metrics._plot.confusion_matrix', 'sklearn.metrics', 'sklearn.neighbors._base', 'sklearn.neighbors._unsupervised', 'sklearn.neighbors._graph', 'sklearn.neighbors._classification', 'sklearn.neighbors._regression', 'sklearn.neighbors._nearest_centroid', 'sklearn.neighbors._kde', 'sklearn.neighbors._lof', 'sklearn.decomposition._cdnmf_fast', 'sklearn.decomposition._nmf', 'sklearn.decomposition._base', 'sklearn.utils._arpack', 'sklearn.decomposition._pca', 'sklearn.decomposition._incremental_pca', 'sklearn.decomposition._kernel_pca', 'sklearn.utils._random', 'sklearn.utils._seq_dataset', 'sklearn.linear_model._base', 'sklearn.linear_model._bayes', 'sklearn.utils._cython_blas', 'sklearn.utils.arrayfuncs', 'sklearn.model_selection._split', 'sklearn.utils.metaestimators', 'sklearn.model_selection._validation', 'sklearn.utils.random', 'sklearn.model_selection._search', 'sklearn.model_selection', 'sklearn.linear_model._least_angle', 'sklearn.linear_model._cd_fast', 'sklearn.linear_model._coordinate_descent', 'sklearn.utils.optimize', 'sklearn.linear_model._glm.link', 'sklearn.linear_model._glm.glm', 'sklearn.linear_model._glm', 'sklearn.linear_model._huber', 'sklearn.utils._weight_vector', 'sklearn.linear_model._sgd_fast', 'sklearn.linear_model._stochastic_gradient', 'sklearn.linear_model._sag_fast', 'sklearn.linear_model._sag', 'sklearn.linear_model._ridge', 'sklearn.svm._libsvm', 'sklearn.svm._liblinear', 'sklearn.svm._libsvm_sparse', 'sklearn.svm._base', 'sklearn.svm._classes', 'sklearn.svm._bounds', 'sklearn.svm', 'sklearn.linear_model._logistic', 'sklearn.linear_model._omp', 'sklearn.linear_model._passive_aggressive', 'sklearn.linear_model._perceptron', 'sklearn.linear_model._ransac', 'sklearn.linear_model._theil_sen', 'sklearn.linear_model', 'sklearn.decomposition._dict_learning', 'sklearn.decomposition._sparse_pca', 'sklearn.decomposition._truncated_svd', 'sklearn.decomposition._fastica', 'sklearn.decomposition._factor_analysis', 'sklearn.decomposition._online_lda_fast', 'sklearn.decomposition._lda', 'sklearn.decomposition', 'sklearn.neighbors._nca', 'sklearn.neighbors', 'xlrd.timemachine', 'xlrd.biffh', 'xlrd.compdoc', 'xlrd.formatting', 'xlrd.formula', 'xlrd.sheet', 'xlrd.book', 'xlrd.info', 'xlrd.xldate', 'xlrd', 'openpyxl.compat.numbers', 'openpyxl.compat.strings', 'openpyxl.compat', 'lxml', 'lxml._elementpath', 'lxml.etree', 'defusedxml.common', 'defusedxml', 'openpyxl.xml', 'openpyxl.worksheet', 'openpyxl.utils.exceptions', 'openpyxl.utils.cell', 'openpyxl.utils.formulas', 'openpyxl.utils', 'jdcal', 'openpyxl.utils.datetime', 'openpyxl.descriptors.namespace', 'openpyxl.descriptors.base', 'xml.etree', 'xml.etree.ElementPath', '_elementtree', 'xml.etree.ElementTree', 'defusedxml.ElementTree', 'openpyxl.xml.constants', 'openpyxl.xml.functions', 'openpyxl.utils.indexed_list', 'openpyxl.descriptors.sequence', 'openpyxl.descriptors', 'openpyxl.descriptors.serialisable', 'openpyxl.styles.alignment', 'openpyxl.styles.colors', 'openpyxl.styles.borders', 'openpyxl.styles.fills', 'openpyxl.descriptors.nested', 'openpyxl.styles.fonts', 'openpyxl.styles.numbers', 'openpyxl.styles.protection', 'openpyxl.descriptors.excel', 'openpyxl.styles.cell_style', 'openpyxl.styles.named_styles', 'openpyxl.styles', 'openpyxl.styles.proxy', 'openpyxl.styles.builtins', 'openpyxl.styles.styleable', 'openpyxl.worksheet.hyperlink', 'openpyxl.cell.cell', 'openpyxl.cell.read_only', 'openpyxl.cell', 'openpyxl.styles.differential', 'openpyxl.formatting.rule', 'openpyxl.formatting', 'openpyxl.worksheet.cell_range', 'openpyxl.formatting.formatting', 'openpyxl.packaging', 'openpyxl.packaging.relationship', 'openpyxl.utils.escape', 'openpyxl.worksheet.header_footer', 'openpyxl.workbook.child', 'openpyxl.formula.tokenizer', 'openpyxl.formula', 'openpyxl.workbook.defined_name', 'openpyxl.formula.translate', 'openpyxl.worksheet.datavalidation', 'openpyxl.worksheet.page', 'openpyxl.utils.units', 'openpyxl.utils.bound_dictionary', 'openpyxl.worksheet.dimensions', 'openpyxl.utils.protection', 'openpyxl.worksheet.protection', 'openpyxl.worksheet.filters', 'openpyxl.worksheet.views', 'openpyxl.worksheet.merge', 'openpyxl.worksheet.properties', 'openpyxl.worksheet.pagebreak', 'openpyxl.worksheet.scenario', 'openpyxl.worksheet.related', 'openpyxl.worksheet.table', 'openpyxl.worksheet.worksheet', 'openpyxl.cell.text', 'openpyxl.worksheet._reader', 'openpyxl.worksheet._read_only', 'openpyxl.comments.comments', 'openpyxl.comments', 'openpyxl.comments.author', 'openpyxl.comments.shape_writer', 'openpyxl.comments.comment_sheet', 'openpyxl.cell._writer', 'openpyxl.worksheet._writer', 'openpyxl.worksheet._write_only', 'openpyxl.worksheet.copier', 'openpyxl.writer', 'openpyxl.drawing.drawing', 'openpyxl.drawing', 'PIL._version', 'PIL', 'PIL.ImageMode', 'PIL.TiffTags', 'PIL._binary', 'PIL._util', 'PIL._imaging', 'cffi.lock', 'cffi.error', 'cffi.model', 'cffi.api', 'cffi', 'PIL.Image', 'openpyxl.drawing.image', 'openpyxl.chart.layout', 'openpyxl.chart.picture', 'openpyxl.drawing.colors', 'openpyxl.drawing.effect', 'openpyxl.drawing.fill', 'openpyxl.drawing.line', 'openpyxl.drawing.geometry', 'openpyxl.chart.shapes', 'openpyxl.drawing.text', 'openpyxl.chart.data_source', 'openpyxl.chart.text', 'openpyxl.chart.error_bar', 'openpyxl.chart.marker', 'openpyxl.chart._3d', 'openpyxl.chart.legend', 'openpyxl.chart.reference', 'openpyxl.chart.label', 'openpyxl.chart.trendline', 'openpyxl.chart.series', 'openpyxl.chart.series_factory', 'openpyxl.chart.title', 'openpyxl.chart._chart', 'openpyxl.chart.descriptors', 'openpyxl.chart.axis', 'openpyxl.chart.area_chart', 'openpyxl.chart.bar_chart', 'openpyxl.chart.bubble_chart', 'openpyxl.chart.updown_bars', 'openpyxl.chart.line_chart', 'openpyxl.chart.pie_chart', 'openpyxl.chart.radar_chart', 'openpyxl.chart.scatter_chart', 'openpyxl.chart.stock_chart', 'openpyxl.chart.surface_chart', 'openpyxl.chart', 'openpyxl.drawing.xdr', 'openpyxl.drawing.properties', 'openpyxl.drawing.connector', 'openpyxl.drawing.picture', 'openpyxl.drawing.relation', 'openpyxl.drawing.graphic', 'openpyxl.drawing.spreadsheet_drawing', 'openpyxl.packaging.manifest', 'openpyxl.packaging.extended', 'openpyxl.styles.table', 'openpyxl.styles.stylesheet', 'openpyxl.workbook.external_reference', 'openpyxl.workbook.function_group', 'openpyxl.workbook.properties', 'openpyxl.workbook.protection', 'openpyxl.workbook.smart_tags', 'openpyxl.workbook.views', 'openpyxl.workbook.web', 'openpyxl.packaging.workbook', 'openpyxl.workbook._writer', 'openpyxl.writer.theme', 'openpyxl.writer.excel', 'openpyxl.worksheet.drawing', 'openpyxl.chartsheet.relation', 'openpyxl.chartsheet.properties', 'openpyxl.chartsheet.protection', 'openpyxl.chartsheet.views', 'openpyxl.chartsheet.custom', 'openpyxl.chartsheet.publish', 'openpyxl.chartsheet.chartsheet', 'openpyxl.chartsheet', 'openpyxl.packaging.core', 'openpyxl.workbook.workbook', 'openpyxl.workbook', 'openpyxl.reader', 'openpyxl.pivot', 'openpyxl.pivot.fields', 'openpyxl.pivot.table', 'openpyxl.reader.strings', 'openpyxl.workbook.external_link.external', 'openpyxl.workbook.external_link', 'openpyxl.pivot.cache', 'openpyxl.pivot.record', 'openpyxl.reader.workbook', 'openpyxl.chart.plotarea', 'openpyxl.chart.pivot', 'openpyxl.chart.print_settings', 'openpyxl.chart.chartspace', 'openpyxl.chart.reader', 'openpyxl.reader.drawings', 'openpyxl.reader.excel', 'openpyxl._constants', 'openpyxl', 'pandas.io.formats.string', 'pandas.io.formats.html', 'botocore', 'botocore.vendored', 'botocore.vendored.six', 'botocore.vendored.requests.packages.urllib3.exceptions', 'botocore.vendored.requests.packages.urllib3', 'botocore.vendored.requests.packages', 'botocore.vendored.requests.exceptions', 'botocore.vendored.requests', 'botocore.exceptions', 'urllib3.packages.ssl_match_hostname', 'urllib3.packages', 'urllib3.packages.six', 'urllib3.packages.six.moves', 'urllib3.packages.six.moves.http_client', 'urllib3.exceptions', 'urllib3._version', 'urllib3.contrib', 'urllib3.contrib._appengine_environ', 'urllib3.util.wait', 'urllib3.util.connection', '_cffi_backend', '_brotli.lib', '_brotli', 'brotli._brotli', 'brotli.brotli', 'brotli', 'urllib3.util.request', 'urllib3.util.response', 'urllib3.util.retry', 'urllib3.util.url', 'urllib3.util.ssltransport', 'urllib3.util.ssl_', 'urllib3.util.timeout', 'urllib3.util', 'urllib3.util.proxy', 'urllib3._collections', 'urllib3.connection', 'urllib3.fields', 'urllib3.filepost', 'urllib3.packages.six.moves.urllib', 'urllib3.packages.six.moves.urllib.parse', 'urllib3.request', 'urllib3.response', 'urllib3.util.queue', 'urllib3.connectionpool', 'urllib3.poolmanager', 'urllib3', 'botocore.vendored.six.moves', 'xml.etree.cElementTree', 'botocore.compat', 'botocore.configloader', 'cgi', 'cryptography.__about__', 'cryptography', 'cryptography.utils', 'cryptography.x509.certificate_transparency', 'cryptography.hazmat', 'cryptography.hazmat.primitives', 'cryptography.hazmat.primitives.asymmetric', 'cryptography.hazmat.backends', 'cryptography.hazmat.primitives._serialization', 'cryptography.exceptions', 'cryptography.hazmat.backends.interfaces', 'cryptography.hazmat.primitives.hashes', 'cryptography.hazmat._der', 'cryptography.hazmat.primitives.asymmetric.utils', 'cryptography.hazmat.primitives.asymmetric.dsa', 'cryptography.hazmat._oid', 'cryptography.hazmat.primitives.asymmetric.ec', 'cryptography.hazmat.primitives.asymmetric.ed25519', 'cryptography.hazmat.primitives.asymmetric.ed448', 'cryptography.hazmat.primitives._asymmetric', 'cryptography.hazmat.primitives.asymmetric.rsa', 'cryptography.hazmat._types', 'cryptography.hazmat.primitives.asymmetric.dh', 'cryptography.hazmat.primitives.serialization.base', 'cryptography.hazmat.primitives._cipheralgorithm', 'cryptography.hazmat.primitives.ciphers.modes', 'cryptography.hazmat.primitives.ciphers.base', 'cryptography.hazmat.primitives.ciphers', 'cryptography.hazmat.primitives.ciphers.algorithms', 'cryptography.hazmat.primitives.serialization.ssh', 'cryptography.hazmat.primitives.serialization', 'ipaddress', 'cryptography.hazmat.primitives.constant_time', 'cryptography.x509.oid', 'cryptography.x509.name', 'cryptography.x509.general_name', 'cryptography.x509.extensions', 'cryptography.x509.base', 'cryptography.x509', 'cryptography.hazmat.bindings', 'cryptography.hazmat.bindings.openssl', '_openssl.lib', '_openssl', 'cryptography.hazmat.bindings._openssl', 'cryptography.hazmat.bindings.openssl._conditional', 'cryptography.hazmat.bindings.openssl.binding', 'OpenSSL._util', 'OpenSSL.crypto', 'OpenSSL.SSL', 'OpenSSL.version', 'OpenSSL', 'cryptography.hazmat.backends.openssl.aead', 'cryptography.hazmat.backends.openssl.ciphers', 'cryptography.hazmat.backends.openssl.cmac', 'cryptography.hazmat.backends.openssl.decode_asn1', 'cryptography.hazmat.backends.openssl.dh', 'cryptography.hazmat.backends.openssl.utils', 'cryptography.hazmat.backends.openssl.dsa', 'cryptography.hazmat.backends.openssl.ec', 'cryptography.hazmat.backends.openssl.ed25519', 'cryptography.hazmat.backends.openssl.ed448', 'cryptography.hazmat.backends.openssl.encode_asn1', 'cryptography.hazmat.backends.openssl.hashes', 'cryptography.hazmat.backends.openssl.hmac', 'cryptography.hazmat.primitives.asymmetric.padding', 'cryptography.hazmat.backends.openssl.rsa', 'cryptography.hazmat.backends.openssl.x509', 'cryptography.x509.ocsp', 'cryptography.hazmat.backends.openssl.ocsp', 'cryptography.hazmat.backends.openssl.poly1305', 'cryptography.hazmat.primitives.asymmetric.x25519', 'cryptography.hazmat.backends.openssl.x25519', 'cryptography.hazmat.primitives.asymmetric.x448', 'cryptography.hazmat.backends.openssl.x448', 'cryptography.hazmat.primitives.kdf', 'cryptography.hazmat.primitives.kdf.scrypt', 'cryptography.hazmat.primitives.serialization.pkcs7', 'cryptography.hazmat.backends.openssl.backend', 'cryptography.hazmat.backends.openssl', 'urllib3.packages.backports', 'urllib3.packages.backports.makefile', 'urllib3.contrib.pyopenssl', 'botocore.vendored.six.moves.urllib_parse', 'botocore.httpsession', 'botocore.vendored.six.moves.urllib', 'botocore.vendored.six.moves.urllib.request', 'botocore.utils', 'botocore.awsrequest', 'botocore.hooks', 'botocore.history', 'botocore.eventstream', 'botocore.parsers', 'botocore.response', 'botocore.endpoint', 'botocore.config', 'botocore.credentials', 'jmespath.compat', 'jmespath.exceptions', 'jmespath.lexer', 'jmespath.ast', 'jmespath.functions', 'jmespath.visitor', 'jmespath.parser', 'jmespath', 'botocore.docs.utils', 'botocore.docs.shape', 'botocore.docs.params', 'botocore.docs.example', 'botocore.docs.method', 'botocore.docs.sharedexample', 'botocore.docs.client', 'botocore.docs.waiter', 'botocore.docs.paginator', 'botocore.docs.bcdoc', '_markupbase', 'html.parser', 'botocore.docs.bcdoc.docstringparser', 'botocore.docs.bcdoc.style', 'botocore.docs.bcdoc.restdoc', 'botocore.docs.service', 'botocore.docs', 'botocore.docs.docstring', 'botocore.waiter', 'botocore.validate', 'botocore.serialize', 'botocore.auth', 'botocore.signers', 'botocore.args', 'botocore.model', 'botocore.paginate', 'botocore.discovery', 'botocore.retries', 'botocore.retries.quota', 'botocore.retries.base', 'botocore.retries.special', 'botocore.retries.standard', 'botocore.retries.bucket', 'botocore.retries.throttling', 'botocore.retries.adaptive', 'botocore.client', 'botocore.configprovider', 'botocore.errorfactory', 'botocore.retryhandler', 'botocore.translate', 'botocore.handlers', 'botocore.loaders', 'botocore.regions', 'botocore.monitoring', 'botocore.session', 'boto3.utils', 'boto3.exceptions', 'boto3.resources', 'boto3.resources.params', 'boto3.resources.response', 'boto3.resources.model', 'boto3.docs.client', 'boto3.docs.base', 'boto3.docs.method', 'boto3.docs.utils', 'boto3.docs.action', 'boto3.docs.waiter', 'boto3.docs.collection', 'boto3.docs.subresource', 'boto3.docs.attr', 'boto3.docs.resource', 'boto3.docs.service', 'boto3.docs', 'boto3.docs.docstring', 'boto3.resources.action', 'boto3.resources.base', 'boto3.resources.collection', 'boto3.resources.factory', 'boto3.session', 'boto3.compat', 'boto3', 'boto3.s3', '_posixshmem', 'multiprocessing.shared_memory', 'multiprocessing.managers', 's3transfer.compat', 's3transfer.exceptions', 'concurrent.futures.thread', 's3transfer', 's3transfer.constants', 's3transfer.utils', 's3transfer.futures', 's3transfer.tasks', 's3transfer.download', 's3transfer.upload', 's3transfer.copies', 's3transfer.delete', 's3transfer.bandwidth', 's3transfer.manager', 's3transfer.subscribers', 'boto3.s3.transfer', 'boto3.s3.inject', 'stringprep', 'encodings.idna', 'swig_runtime_data4', 'osgeo._gdal', 'osgeo', 'osgeo._gdalconst', 'osgeo.gdalconst', 'osgeo._ogr', 'osgeo._osr', 'osgeo.osr', 'osgeo.ogr', 'osgeo.gdal', 'gdal', 'skimage._shared', 'skimage._shared.version_requirements', 'skimage._shared.geometry', 'skimage.util.dtype', 'skimage.util.shape', 'skimage.util.noise', 'skimage.util.apply_parallel', 'skimage.util.arraycrop', 'skimage.util.compare', 'skimage.util._regular_grid', 'skimage.util.unique', 'skimage.util._invert', 'skimage.util._montage', 'skimage.util._remap', 'skimage.util._map_array', 'skimage.util', 'skimage.data._binary_blobs', 'skimage.data._registry', 'pooch._version', 'pooch.version', 'ftplib', 'chardet.enums', 'chardet.charsetprober', 'chardet.charsetgroupprober', 'chardet.codingstatemachine', 'chardet.escsm', 'chardet.escprober', 'chardet.latin1prober', 'chardet.mbcssm', 'chardet.utf8prober', 'chardet.mbcharsetprober', 'chardet.euctwfreq', 'chardet.euckrfreq', 'chardet.gb2312freq', 'chardet.big5freq', 'chardet.jisfreq', 'chardet.chardistribution', 'chardet.jpcntx', 'chardet.sjisprober', 'chardet.eucjpprober', 'chardet.gb2312prober', 'chardet.euckrprober', 'chardet.cp949prober', 'chardet.big5prober', 'chardet.euctwprober', 'chardet.mbcsgroupprober', 'chardet.hebrewprober', 'chardet.sbcharsetprober', 'chardet.langbulgarianmodel', 'chardet.langgreekmodel', 'chardet.langhebrewmodel', 'chardet.langrussianmodel', 'chardet.langthaimodel', 'chardet.langturkishmodel', 'chardet.sbcsgroupprober', 'chardet.universaldetector', 'chardet.version', 'chardet', 'requests.exceptions', 'requests.__version__', 'requests.certs', 'http.cookiejar', 'http.cookies', 'requests.compat', 'requests._internal_utils', 'requests.cookies', 'requests.structures', 'requests.utils', 'requests.packages.urllib3.packages.ssl_match_hostname', 'requests.packages.urllib3.packages', 'requests.packages.urllib3.packages.six', 'requests.packages.urllib3.packages.six.moves', 'requests.packages.urllib3.packages.six.moves.http_client', 'requests.packages.urllib3.exceptions', 'requests.packages.urllib3._version', 'requests.packages.urllib3.contrib', 'requests.packages.urllib3.contrib._appengine_environ', 'requests.packages.urllib3.util.wait', 'requests.packages.urllib3.util.connection', 'requests.packages.urllib3.util.request', 'requests.packages.urllib3.util.response', 'requests.packages.urllib3.util.retry', 'requests.packages.urllib3.util.url', 'requests.packages.urllib3.util.ssltransport', 'requests.packages.urllib3.util.ssl_', 'requests.packages.urllib3.util.timeout', 'requests.packages.urllib3.util', 'requests.packages.urllib3.util.proxy', 'requests.packages.urllib3._collections', 'requests.packages.urllib3.connection', 'requests.packages.urllib3.fields', 'requests.packages.urllib3.filepost', 'requests.packages.urllib3.packages.six.moves.urllib', 'requests.packages.urllib3.packages.six.moves.urllib.parse', 'requests.packages.urllib3.request', 'requests.packages.urllib3.response', 'requests.packages.urllib3.util.queue', 'requests.packages.urllib3.connectionpool', 'requests.packages.urllib3.poolmanager', 'requests.packages.urllib3', 'requests.packages.urllib3.packages.backports', 'requests.packages.urllib3.packages.backports.makefile', 'requests.packages.urllib3.contrib.pyopenssl', 'idna.package_data', 'idna.idnadata', 'idna.intranges', 'idna.core', 'idna', 'requests.packages.idna.package_data', 'requests.packages.idna.idnadata', 'requests.packages.idna.intranges', 'requests.packages.idna.core', 'requests.packages.idna', 'requests.packages.chardet.enums', 'requests.packages.chardet.charsetprober', 'requests.packages.chardet.charsetgroupprober', 'requests.packages.chardet.codingstatemachine', 'requests.packages.chardet.escsm', 'requests.packages.chardet.escprober', 'requests.packages.chardet.latin1prober', 'requests.packages.chardet.mbcssm', 'requests.packages.chardet.utf8prober', 'requests.packages.chardet.mbcharsetprober', 'requests.packages.chardet.euctwfreq', 'requests.packages.chardet.euckrfreq', 'requests.packages.chardet.gb2312freq', 'requests.packages.chardet.big5freq', 'requests.packages.chardet.jisfreq', 'requests.packages.chardet.chardistribution', 'requests.packages.chardet.jpcntx', 'requests.packages.chardet.sjisprober', 'requests.packages.chardet.eucjpprober', 'requests.packages.chardet.gb2312prober', 'requests.packages.chardet.euckrprober', 'requests.packages.chardet.cp949prober', 'requests.packages.chardet.big5prober', 'requests.packages.chardet.euctwprober', 'requests.packages.chardet.mbcsgroupprober', 'requests.packages.chardet.hebrewprober', 'requests.packages.chardet.sbcharsetprober', 'requests.packages.chardet.langbulgarianmodel', 'requests.packages.chardet.langgreekmodel', 'requests.packages.chardet.langhebrewmodel', 'requests.packages.chardet.langrussianmodel', 'requests.packages.chardet.langthaimodel', 'requests.packages.chardet.langturkishmodel', 'requests.packages.chardet.sbcsgroupprober', 'requests.packages.chardet.universaldetector', 'requests.packages.chardet.version', 'requests.packages.chardet', 'requests.packages', 'requests.hooks', 'requests.auth', 'requests.status_codes', 'requests.models', 'socks', 'urllib3.contrib.socks', 'requests.adapters', 'requests.sessions', 'requests.api', 'requests', 'appdirs', 'packaging.__about__', 'packaging', 'packaging._structures', 'packaging._typing', 'packaging.version', 'pooch.utils', 'pooch.downloaders', 'pooch.core', 'tarfile', 'pooch.processors', 'pooch', 'skimage.data', 'skimage.util.lookfor', 'skimage', 'skimage._shared._warnings', 'skimage._shared.utils', 'skimage._shared._geometry', 'skimage.draw._draw', 'skimage.draw.draw', 'skimage.draw.draw3d', 'skimage.draw._random_shapes', 'skimage.draw._polygon2mask', 'skimage.draw.draw_nd', 'skimage.draw', 'skimage.morphology.selem', 'skimage.morphology.misc', 'skimage.morphology.binary', 'skimage.morphology.grey', 'skimage.measure._find_contours_cy', 'skimage.measure._find_contours', 'skimage.measure._marching_cubes_lewiner_luts', 'skimage.measure._marching_cubes_lewiner_cy', 'skimage.measure._marching_cubes_classic_cy', 'skimage.measure._marching_cubes_classic', 'skimage.measure._marching_cubes_lewiner', 'skimage.measure._moments_cy', 'skimage.measure._moments', 'skimage.measure._regionprops_utils', 'skimage.measure._regionprops', 'scipy.signal.sigtools', 'scipy._lib._uarray._uarray', 'scipy._lib._uarray._backend', 'scipy._lib._uarray', 'scipy._lib.uarray', 'scipy.fft._basic', 'scipy.fft._realtransforms', 'scipy.fft._pocketfft.pypocketfft', 'scipy.fft._pocketfft.helper', 'scipy.fft._pocketfft.basic', 'scipy.fft._pocketfft.realtransforms', 'scipy.fft._pocketfft', 'scipy.fft._helper', 'scipy.fft._backend', 'scipy.fft', 'scipy.signal.windows.windows', 'scipy.signal.windows', 'scipy.signal.waveforms', 'scipy.signal._max_len_seq_inner', 'scipy.signal._max_len_seq', 'scipy.signal._upfirdn_apply', 'scipy.signal._upfirdn', 'scipy.signal.spline', 'scipy.signal.bsplines', 'scipy.signal.filter_design', 'scipy.signal.fir_filter_design', 'scipy.signal.lti_conversion', 'scipy.signal.ltisys', 'scipy.signal._arraytools', 'scipy.signal._sosfilt', 'scipy.signal.signaltools', 'scipy.signal._savitzky_golay', 'scipy.signal._spectral', 'scipy.signal.spectral', 'scipy.signal.wavelets', 'scipy.signal._peak_finding_utils', 'scipy.signal._peak_finding', 'scipy.signal', 'skimage.measure._polygon', 'skimage.measure._pnpoly', 'skimage.measure.pnpoly', 'skimage.measure.profile', 'skimage.measure.fit', 'skimage.measure.block', 'skimage.measure._ccomp', 'skimage.measure._label', 'skimage.measure.entropy', 'skimage.measure', 'skimage.morphology._skeletonize_cy', 'skimage.morphology._skeletonize_3d_cy', 'skimage.morphology._skeletonize', 'skimage.morphology._convex_hull', 'skimage.morphology.convex_hull', 'skimage._shared.fft', 'skimage.filters.lpi_filter', 'skimage.filters._gaussian', 'skimage.restoration.uft', 'skimage.restoration.deconvolution', 'skimage.restoration._unwrap_1d', 'skimage.restoration._unwrap_2d', 'skimage.restoration._unwrap_3d', 'skimage.restoration.unwrap', 'skimage.restoration._denoise_cy', 'pywt._extensions', 'pywt._extensions._dwt', 'pywt._extensions._cwt', 'pywt._extensions._pywt', 'pywt._functions', 'pywt._c99_config', 'pywt._utils', 'pywt._dwt', 'pywt._multidim', 'pywt._multilevel', 'pywt._thresholding', 'pywt._wavelet_packets', 'pywt._extensions._swt', 'pywt._swt', 'pywt._cwt', 'pywt.data._readers', 'pywt.data._wavelab_signals', 'pywt.data', 'pywt.version', 'pywt._pytesttester', 'pywt', 'skimage.color.colorconv', 'skimage.color.rgb_colors', 'skimage.color.colorlabel', 'skimage.color.delta_e', 'skimage.color', 'skimage.restoration._denoise', 'yaml.error', 'yaml.tokens', 'yaml.events', 'yaml.nodes', 'yaml.reader', 'yaml.scanner', 'yaml.parser', 'yaml.composer', 'yaml.constructor', 'yaml.resolver', 'yaml.loader', 'yaml.emitter', 'yaml.serializer', 'yaml.representer', 'yaml.dumper', 'yaml._yaml', 'yaml.cyaml', 'yaml', 'dask.config', 'dask.utils_test', 'dask.core', 'dask.utils', 'dask.datasets', 'dask.order', 'dask.callbacks', 'dask.local', 'toolz.utils', 'toolz.itertoolz', 'toolz._signatures', 'toolz.functoolz', 'toolz.dicttoolz', 'toolz.recipes', 'toolz.curried.operator', 'toolz.curried.exceptions', 'toolz.curried', 'toolz.sandbox.core', 'toolz.sandbox.parallel', 'toolz.sandbox', 'toolz._version', 'toolz', 'cytoolz.utils', 'cytoolz.itertoolz', 'cytoolz._signatures', 'cytoolz.functoolz', 'cytoolz.dicttoolz', 'cytoolz.recipes', 'cytoolz.curried.operator', 'cytoolz.curried.exceptions', 'cytoolz.curried', 'cytoolz._version', 'cytoolz', 'tlz.utils', 'tlz.itertoolz', 'tlz._signatures', 'tlz.functoolz', 'tlz.dicttoolz', 'tlz.recipes', 'tlz._version', 'tlz._build_tlz', 'tlz', 'dask.system', 'dask.threaded', 'dask.compatibility', 'dask.context', 'dask.hashing', 'dask.optimization', 'cloudpickle.compat', 'cloudpickle.cloudpickle', 'cloudpickle.cloudpickle_fast', 'cloudpickle', 'dask.multiprocessing', 'dask.base', 'dask.highlevelgraph', 'dask.delayed', 'dask._version', 'dask', 'skimage.restoration._cycle_spin', 'skimage.restoration._nl_means_denoising', 'skimage.restoration.non_local_means', 'skimage.restoration.inpaint', 'skimage.metrics._contingency_table', 'skimage.metrics._adapted_rand_error', 'skimage.metrics._variation_of_information', 'skimage.metrics.simple_metrics', 'skimage.metrics._structural_similarity', 'skimage.metrics.set_metrics', 'skimage.metrics', 'skimage.restoration.j_invariant', 'skimage.restoration._rolling_ball_cy', 'skimage.restoration.rolling_ball', 'skimage.restoration', 'skimage.filters.edges', 'skimage.filters._rank_order', 'skimage.filters._gabor', 'skimage.exposure.exposure', 'skimage.color.adapt_rgb', 'skimage.exposure._adapthist', 'skimage.exposure.histogram_matching', 'skimage.exposure', 'skimage.transform._hough_transform', 'skimage.transform.hough_transform', 'skimage.transform._geometric', 'skimage.transform._warps_cy', 'skimage.transform._warps', 'skimage.transform._radon_transform', 'skimage.transform.radon_transform', 'skimage.transform.finite_radon_transform', 'skimage.transform.integral', 'skimage.transform.pyramids', 'skimage.transform', 'skimage.filters._multiotsu', 'skimage.filters._sparse_cy', 'skimage.filters._sparse', 'skimage.filters.thresholding', 'skimage.feature._canny', 'skimage._shared.transform', 'skimage.feature._texture', 'skimage.feature._cascade', 'skimage.feature._daisy', 'skimage.feature._hoghistogram', 'skimage.feature._hog', 'skimage.feature.texture', 'skimage._shared.coord', 'skimage.feature.peak', 'skimage.feature.util', 'skimage.feature.corner_cy', 'skimage.feature._hessian_det_appx', 'skimage.feature.corner', 'skimage.feature.template', 'skimage.feature.brief_cy', 'skimage.feature.brief', 'skimage.feature.censure_cy', 'skimage.feature.censure', 'skimage.feature._orb_descriptor_positions', 'skimage.feature.orb_cy', 'skimage.feature.orb', 'skimage.feature.match', 'skimage.feature.blob', 'skimage.feature._haar', 'skimage.feature.haar', 'skimage.feature._basic_features', 'skimage.feature', 'skimage.filters.ridges', 'skimage.filters.rank.core_cy', 'skimage.filters.rank.core_cy_3d', 'skimage.filters.rank.generic_cy', 'skimage.filters.rank.generic', 'skimage.filters.rank.percentile_cy', 'skimage.filters.rank._percentile', 'skimage.filters.rank.bilateral_cy', 'skimage.filters.rank.bilateral', 'skimage.filters.rank', 'skimage.filters._median', 'skimage.filters._unsharp_mask', 'skimage.filters._window', 'skimage.filters', 'skimage.morphology.greyreconstruct', 'skimage.morphology._util', 'skimage.morphology._extrema_cy', 'skimage.morphology.extrema', 'skimage.morphology._flood_fill_cy', 'skimage.morphology._flood_fill', 'skimage.morphology._max_tree', 'skimage.morphology.max_tree', 'skimage.morphology._deprecated', 'skimage.morphology', 'UtilRaster', 'configparser', 'UtilConfig', 'isce.release_history', 'socketserver', 'logging.config', 'isce', 'mroipac', 'mroipac.ampcor', 'isceobj.Catalog', 'isceobj.Doppler', 'isceobj.Registry.Registry', 'isceobj.Registry', 'isceobj.Scene', 'isceobj.Image', 'isceobj.Util', 'isceobj', 'isceobj.Location', 'isceobj.Util.decorators', 'iscesys.Component', 'iscesys', 'iscesys.DictUtils', 'iscesys.DictUtils.DictUtils', 'iscesys.Compatibility', 'iscesys.Compatibility.Compatibility', 'iscesys.Traits.Datetime', 'iscesys.Traits', 'iscesys.Component.Configurable', 'iscesys.StdOEL', 'iscesys.StdOEL.StdOEL', 'iscesys.StdOEL.StdOELPy', 'iscesys.Component.Component', 'isceobj.Location.Offset', 'mroipac.ampcor.ampcor', 'isceobj.Util.mathModule', 'mroipac.ampcor.Ampcor', 'UtilPX', 'UtilXYZ', 'matplotlib', 'matplotlib.cbook.deprecation', 'matplotlib.cbook', 'matplotlib._animation_data', 'matplotlib.animation', 'pyparsing', 'matplotlib.fontconfig_pattern', 'matplotlib.docstring', 'matplotlib._color_data', 'matplotlib.colors', 'cycler', 'matplotlib.rcsetup', 'matplotlib._version', 'matplotlib.ft2font', 'kiwisolver']\n",
      "2021-03-02 20:51:37,594 - matplotlib - DEBUG - CACHEDIR=/home/whyj/.cache/matplotlib\n",
      "2021-03-02 20:51:37,595 - matplotlib.font_manager - DEBUG - Using fontManager instance from /home/whyj/.cache/matplotlib/fontlist-v330.json\n",
      "2021-03-02 20:51:37,719 - matplotlib.pyplot - DEBUG - Loaded backend module://ipykernel.pylab.backend_inline version unknown.\n",
      "2021-03-02 20:51:37,720 - matplotlib.pyplot - DEBUG - Loaded backend module://ipykernel.pylab.backend_inline version unknown.\n"
     ]
    }
   ],
   "source": [
    "from UtilRaster import SingleRaster, RasterVelos\n",
    "from UtilConfig import ConfParams\n",
    "from UtilPX import ampcor_task, writeout_ampcor_task\n",
    "from UtilXYZ import ZArray, DuoZArray, AmpcoroffFile, points_in_polygon"
   ]
  },
  {
   "cell_type": "code",
   "execution_count": 48,
   "id": "endless-geography",
   "metadata": {},
   "outputs": [
    {
     "name": "stdout",
     "output_type": "stream",
     "text": [
      "Calling gdalbuildvrt...\n",
      "gdalbuildvrt LC08_L1TP_009011_20200703_20200708_01_T1_B4.TIF.vrt https://landsat-pds.s3.amazonaws.com/c1/L8/009/011/LC08_L1TP_009011_20200703_20200708_01_T1/LC08_L1TP_009011_20200703_20200708_01_T1_B4.TIF\n",
      "Calling gdalbuildvrt...\n",
      "gdalbuildvrt LC08_L1TP_009011_20200820_20200905_01_T1_B4.TIF.vrt https://landsat-pds.s3.amazonaws.com/c1/L8/009/011/LC08_L1TP_009011_20200820_20200905_01_T1/LC08_L1TP_009011_20200820_20200905_01_T1_B4.TIF\n"
     ]
    }
   ],
   "source": [
    "a = SingleRaster(file1, date='2020-07-03')\n",
    "b = SingleRaster(file2, date='2020-08-20')\n",
    "a.AmpcorPrep()\n",
    "b.AmpcorPrep()"
   ]
  },
  {
   "cell_type": "code",
   "execution_count": 49,
   "id": "elect-estate",
   "metadata": {},
   "outputs": [],
   "source": [
    "inipath = 'param.ini'\n",
    "ini = ConfParams(inipath)\n",
    "ini.ReadParam()\n",
    "ini.imagepair['image1'] = file1\n",
    "ini.imagepair['image2'] = file2\n",
    "ini.imagepair['image1_date'] = '2020-07-03'\n",
    "ini.imagepair['image2_date'] = '2020-08-20'\n",
    "ini.VerifyParam()"
   ]
  },
  {
   "cell_type": "code",
   "execution_count": 50,
   "id": "civilian-courage",
   "metadata": {},
   "outputs": [
    {
     "name": "stdout",
     "output_type": "stream",
     "text": [
      "Scale Factor in Range:  1.0\n",
      "Scale Factor in Azimuth:  1.0\n",
      "Skip Sample Down: 20\n",
      "Skip Sample Across: 20\n",
      "Scale Factor in Range:  1.0\n",
      "Scale Factor in Azimuth:  1.0\n",
      "Skip Sample Down: 20\n",
      "Skip Sample Across: 20\n",
      "Scale Factor in Range:  1.0\n",
      "Scale Factor in Azimuth:  1.0\n",
      "Skip Sample Down: 20\n",
      "Skip Sample Across: 20\n",
      "Scale Factor in Range:  1.0\n",
      "Scale Factor in Azimuth:  1.0\n",
      "Skip Sample Down: 20\n",
      "Skip Sample Across: 20\n",
      "Scale Factor in Range:  1.0\n",
      "Scale Factor in Azimuth:  1.0\n",
      "Skip Sample Down: 20\n",
      "Skip Sample Across: 20\n",
      "Scale Factor in Range:  1.0\n",
      "Scale Factor in Azimuth:  1.0\n",
      "Skip Sample Down: 20\n",
      "Skip Sample Across: 20\n",
      "Scale Factor in Range:  1.0\n",
      "Scale Factor in Azimuth:  1.0\n",
      "Skip Sample Down: 20\n",
      "Skip Sample Across: 20\n",
      "Scale Factor in Range:  1.0\n",
      "Scale Factor in Azimuth:  1.0\n",
      "Skip Sample Down: 20\n",
      "Skip Sample Across: 20\n"
     ]
    }
   ],
   "source": [
    "task = ampcor_task([a, b], ini)\n",
    "writeout_ampcor_task(task, ini)"
   ]
  },
  {
   "cell_type": "code",
   "execution_count": 51,
   "id": "major-receiver",
   "metadata": {},
   "outputs": [],
   "source": [
    "ampoff = AmpcoroffFile(ini.rawoutput['label_ampcor'] + '.p')\n",
    "ampoff.Load()\n",
    "ampoff.SetIni(ini)\n",
    "ampoff.FillwithNAN()   # fill holes with nan\n",
    "ampoff.Ampcoroff2Velo()\n",
    "ampoff.Velo2XYV(generate_xyztext=ini.rawoutput['if_generate_xyztext'])\n",
    "ampoff.XYV2Raster()"
   ]
  },
  {
   "cell_type": "code",
   "execution_count": 36,
   "id": "considerable-fossil",
   "metadata": {},
   "outputs": [],
   "source": [
    "import rasterio\n",
    "from rasterio.plot import show"
   ]
  },
  {
   "cell_type": "code",
   "execution_count": 52,
   "id": "concrete-auckland",
   "metadata": {},
   "outputs": [
    {
     "name": "stdout",
     "output_type": "stream",
     "text": [
      "2021-03-02 22:22:31,908 - rasterio.env - DEBUG - Entering env context: <rasterio.env.Env object at 0x7f9959d9f6a0>\n",
      "2021-03-02 22:22:31,908 - rasterio.env - DEBUG - Starting outermost env\n",
      "2021-03-02 22:22:31,909 - rasterio.env - DEBUG - No GDAL environment exists\n",
      "2021-03-02 22:22:31,909 - rasterio.env - DEBUG - New GDAL environment <rasterio._env.GDALEnv object at 0x7f9959d9fa60> created\n",
      "2021-03-02 22:22:31,910 - rasterio._env - DEBUG - GDAL_DATA found in environment: '/home/whyj/anaconda3/envs/carst/share/gdal'.\n",
      "2021-03-02 22:22:31,910 - rasterio._env - DEBUG - PROJ_LIB found in environment: '/home/whyj/anaconda3/envs/carst/share/proj'.\n",
      "2021-03-02 22:22:31,911 - rasterio._env - DEBUG - Started GDALEnv <rasterio._env.GDALEnv object at 0x7f9959d9fa60>.\n",
      "2021-03-02 22:22:31,912 - rasterio.env - DEBUG - Entered env context: <rasterio.env.Env object at 0x7f9959d9f6a0>\n",
      "2021-03-02 22:22:31,912 - rasterio._base - DEBUG - Sharing flag: 0\n",
      "2021-03-02 22:22:36,974 - rasterio._base - DEBUG - Nodata success: 0, Nodata value: -10000000000.000000\n",
      "2021-03-02 22:22:36,975 - rasterio._base - DEBUG - Dataset <open DatasetReader name='https://landsat-pds.s3.amazonaws.com/c1/L8/009/011/LC08_L1TP_009011_20200703_20200708_01_T1/LC08_L1TP_009011_20200703_20200708_01_T1_B4.TIF' mode='r'> is started.\n",
      "2021-03-02 22:22:36,976 - rasterio.env - DEBUG - Exiting env context: <rasterio.env.Env object at 0x7f9959d9f6a0>\n",
      "2021-03-02 22:22:36,976 - rasterio.env - DEBUG - Cleared existing <rasterio._env.GDALEnv object at 0x7f9959d9fa60> options\n",
      "2021-03-02 22:22:36,977 - rasterio._env - DEBUG - Stopped GDALEnv <rasterio._env.GDALEnv object at 0x7f9959d9fa60>.\n",
      "2021-03-02 22:22:36,977 - rasterio.env - DEBUG - Exiting outermost env\n",
      "2021-03-02 22:22:36,978 - rasterio.env - DEBUG - Exited env context: <rasterio.env.Env object at 0x7f9959d9f6a0>\n",
      "2021-03-02 22:22:36,979 - rasterio._io - DEBUG - Output nodata value read from file: None\n",
      "2021-03-02 22:22:36,981 - rasterio._io - DEBUG - Output nodata values: [None]\n",
      "2021-03-02 22:22:38,622 - rasterio._io - DEBUG - all_valid: True\n",
      "2021-03-02 22:22:38,623 - rasterio._io - DEBUG - mask_flags: ([<MaskFlags.all_valid: 1>],)\n",
      "2021-03-02 22:22:38,624 - rasterio._io - DEBUG - Jump straight to _read()\n",
      "2021-03-02 22:22:38,624 - rasterio._io - DEBUG - Window: None\n",
      "2021-03-02 22:22:38,625 - rasterio._io - DEBUG - IO window xoff=0.0 yoff=0.0 width=8511.0 height=8561.0\n"
     ]
    },
    {
     "data": {
      "image/png": "[encoded data removed]",
      "text/plain": [
       "<Figure size 432x288 with 1 Axes>"
      ]
     },
     "metadata": {
      "needs_background": "light"
     },
     "output_type": "display_data"
    },
    {
     "data": {
      "text/plain": [
       "<AxesSubplot:>"
      ]
     },
     "execution_count": 52,
     "metadata": {},
     "output_type": "execute_result"
    }
   ],
   "source": [
    "dataset = rasterio.open(file1)\n",
    "show(dataset)"
   ]
  },
  {
   "cell_type": "code",
   "execution_count": 54,
   "id": "packed-prize",
   "metadata": {},
   "outputs": [
    {
     "name": "stdout",
     "output_type": "stream",
     "text": [
      "2021-03-02 22:22:54,373 - rasterio.env - DEBUG - Entering env context: <rasterio.env.Env object at 0x7f9959d9f4c0>\n",
      "2021-03-02 22:22:54,375 - rasterio.env - DEBUG - Starting outermost env\n",
      "2021-03-02 22:22:54,376 - rasterio.env - DEBUG - No GDAL environment exists\n",
      "2021-03-02 22:22:54,376 - rasterio.env - DEBUG - New GDAL environment <rasterio._env.GDALEnv object at 0x7f9921f15dc0> created\n",
      "2021-03-02 22:22:54,377 - rasterio._env - DEBUG - GDAL_DATA found in environment: '/home/whyj/anaconda3/envs/carst/share/gdal'.\n",
      "2021-03-02 22:22:54,377 - rasterio._env - DEBUG - PROJ_LIB found in environment: '/home/whyj/anaconda3/envs/carst/share/proj'.\n",
      "2021-03-02 22:22:54,378 - rasterio._env - DEBUG - Started GDALEnv <rasterio._env.GDALEnv object at 0x7f9921f15dc0>.\n",
      "2021-03-02 22:22:54,378 - rasterio.env - DEBUG - Entered env context: <rasterio.env.Env object at 0x7f9959d9f4c0>\n",
      "2021-03-02 22:22:54,378 - rasterio._base - DEBUG - Sharing flag: 0\n",
      "2021-03-02 22:22:54,379 - rasterio._base - DEBUG - Nodata success: 1, Nodata value: -9999.000000\n",
      "2021-03-02 22:22:54,380 - rasterio._base - DEBUG - Dataset <open DatasetReader name='20200703-20200820_velo-raw_mag.tif' mode='r'> is started.\n",
      "2021-03-02 22:22:54,380 - rasterio.env - DEBUG - Exiting env context: <rasterio.env.Env object at 0x7f9959d9f4c0>\n",
      "2021-03-02 22:22:54,380 - rasterio.env - DEBUG - Cleared existing <rasterio._env.GDALEnv object at 0x7f9921f15dc0> options\n",
      "2021-03-02 22:22:54,381 - rasterio._env - DEBUG - Stopped GDALEnv <rasterio._env.GDALEnv object at 0x7f9921f15dc0>.\n",
      "2021-03-02 22:22:54,381 - rasterio.env - DEBUG - Exiting outermost env\n",
      "2021-03-02 22:22:54,381 - rasterio.env - DEBUG - Exited env context: <rasterio.env.Env object at 0x7f9959d9f4c0>\n",
      "2021-03-02 22:22:54,382 - rasterio._io - DEBUG - Output nodata value read from file: -9999.0\n",
      "2021-03-02 22:22:54,382 - rasterio._io - DEBUG - Output nodata values: [-9999.0]\n",
      "2021-03-02 22:22:54,383 - rasterio._io - DEBUG - all_valid: False\n",
      "2021-03-02 22:22:54,383 - rasterio._io - DEBUG - mask_flags: ([<MaskFlags.nodata: 8>],)\n",
      "2021-03-02 22:22:54,384 - rasterio._io - DEBUG - Jump straight to _read()\n",
      "2021-03-02 22:22:54,384 - rasterio._io - DEBUG - Window: None\n",
      "2021-03-02 22:22:54,384 - rasterio._io - DEBUG - IO window xoff=0.0 yoff=0.0 width=348.0 height=420.0\n",
      "2021-03-02 22:22:54,385 - rasterio._io - DEBUG - IO window xoff=0.0 yoff=0.0 width=348.0 height=420.0\n"
     ]
    },
    {
     "data": {
      "image/png": "[encoded data removed]",
      "text/plain": [
       "<Figure size 432x288 with 1 Axes>"
      ]
     },
     "metadata": {
      "needs_background": "light"
     },
     "output_type": "display_data"
    },
    {
     "data": {
      "text/plain": [
       "<AxesSubplot:>"
      ]
     },
     "execution_count": 54,
     "metadata": {},
     "output_type": "execute_result"
    }
   ],
   "source": [
    "dataset = rasterio.open('20200703-20200820_velo-raw_mag.tif')\n",
    "show(dataset)"
   ]
  },
  {
   "cell_type": "code",
   "execution_count": null,
   "id": "quality-chosen",
   "metadata": {},
   "outputs": [],
   "source": []
  }
 ],
 "metadata": {
  "kernelspec": {
   "display_name": "Python 3",
   "language": "python",
   "name": "python3"
  },
  "language_info": {
   "codemirror_mode": {
    "name": "ipython",
    "version": 3
   },
   "file_extension": ".py",
   "mimetype": "text/x-python",
   "name": "python",
   "nbconvert_exporter": "python",
   "pygments_lexer": "ipython3",
   "version": "3.9.2"
  }
 },
 "nbformat": 4,
 "nbformat_minor": 5
}
