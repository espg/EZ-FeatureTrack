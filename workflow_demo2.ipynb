{
 "cells": [
  {
   "cell_type": "code",
   "execution_count": 1,
   "id": "intellectual-provision",
   "metadata": {},
   "outputs": [],
   "source": [
    "%load_ext autoreload\n",
    "%autoreload 2"
   ]
  },
  {
   "cell_type": "code",
   "execution_count": 2,
   "id": "taken-hampton",
   "metadata": {},
   "outputs": [
    {
     "name": "stdout",
     "output_type": "stream",
     "text": [
      "This is the Open Source version of ISCE.\n",
      "Some of the workflows depend on a separate licensed package.\n",
      "To obtain the licensed package, please make a request for ISCE\n",
      "through the website: https://download.jpl.nasa.gov/ops/request/index.cfm.\n",
      "Alternatively, if you are a member, or can become a member of WinSAR\n",
      "you may be able to obtain access to a version of the licensed sofware at\n",
      "https://winsar.unavco.org/software/isce\n"
     ]
    }
   ],
   "source": [
    "import os\n",
    "os.environ['GDAL_SKIP'] = 'DODS'\n",
    "\n",
    "import logging\n",
    "import isce\n",
    "root_logger = logging.getLogger()\n",
    "root_logger.setLevel('WARNING')\n",
    "\n",
    "# from ipyleaflet import Map, basemaps, basemap_to_tiles, DrawControl\n",
    "import ipyleaflet as ilfl\n",
    "import ipywidgets as iwg\n",
    "# from ipywidgets import GridspecLayout, AppLayout, VBox, HBox, HTML, Label\n",
    "\n",
    "import pandas as pd\n",
    "import geopandas as gpd\n",
    "import numpy as np\n",
    "from shapely.geometry import Point, Polygon, MultiPolygon\n",
    "from sklearn.neighbors import BallTree\n",
    "import itertools\n",
    "\n",
    "import boto3\n",
    "import botocore\n",
    "from datetime import datetime\n",
    "\n",
    "from carst import SingleRaster, RasterVelos, ConfParams\n",
    "from carst.libft import ampcor_task, writeout_ampcor_task\n",
    "from carst.libxyz import ZArray, DuoZArray, AmpcoroffFile, points_in_polygon\n",
    "import rasterio\n",
    "from rasterio.plot import show"
   ]
  },
  {
   "cell_type": "code",
   "execution_count": 3,
   "id": "hollywood-secretary",
   "metadata": {
    "jupyter": {
     "source_hidden": true
    },
    "tags": []
   },
   "outputs": [],
   "source": [
    "# ==== functions for constructing a polygon object for each LS8 frame\n",
    "\n",
    "def check_crossing(lon_list):\n",
    "    \"\"\"\n",
    "    Checks if the antimeridian is crossed.\n",
    "    \"\"\"\n",
    "    return any(abs(pair[0] - pair[1]) > 180.0 for pair in itertools.combinations(lon_list, 2))\n",
    "\n",
    "def gen_ls8_geometries(ls8_corner_pts_df):\n",
    "    \"\"\"\n",
    "    Create a polygon object for each LS8 grid point. \n",
    "    If the polygon runs across the antimeridian, The polygon will be separated into two \n",
    "    adjacent polygons along the antimeridian, and these two polygons will be grouped into\n",
    "    a single MultiPolygon object.\n",
    "    \"\"\"\n",
    "    geometry_collection = []\n",
    "    for index, row in ls8_corner_pts_df.iterrows():\n",
    "        lon_list = [row.lon_UL, row.lon_UR, row.lon_LR, row.lon_LL]\n",
    "        if check_crossing(lon_list):\n",
    "            set1 = [x % 360.0 for x in lon_list]\n",
    "            set2 = [x % -360.0 for x in lon_list]\n",
    "            poly1 = Polygon([(set1[0], row.lat_UL), (set1[1], row.lat_UR), (set1[2], row.lat_LR), (set1[3], row.lat_LL)])\n",
    "            poly2 = Polygon([(set2[0], row.lat_UL), (set2[1], row.lat_UR), (set2[2], row.lat_LR), (set2[3], row.lat_LL)])\n",
    "            feature_geometry = MultiPolygon([poly1, poly2])\n",
    "        else:\n",
    "            feature_geometry = Polygon([(row.lon_UL, row.lat_UL), (row.lon_UR, row.lat_UR), (row.lon_LR, row.lat_LR), (row.lon_LL, row.lat_LL)])\n",
    "        geometry_collection.append(feature_geometry)\n",
    "    \n",
    "    return geometry_collection"
   ]
  },
  {
   "cell_type": "code",
   "execution_count": 4,
   "id": "exciting-candidate",
   "metadata": {},
   "outputs": [
    {
     "data": {
      "text/html": [
       "<div>\n",
       "<style scoped>\n",
       "    .dataframe tbody tr th:only-of-type {\n",
       "        vertical-align: middle;\n",
       "    }\n",
       "\n",
       "    .dataframe tbody tr th {\n",
       "        vertical-align: top;\n",
       "    }\n",
       "\n",
       "    .dataframe thead th {\n",
       "        text-align: right;\n",
       "    }\n",
       "</style>\n",
       "<table border=\"1\" class=\"dataframe\">\n",
       "  <thead>\n",
       "    <tr style=\"text-align: right;\">\n",
       "      <th></th>\n",
       "      <th>path</th>\n",
       "      <th>row</th>\n",
       "      <th>lat_CTR</th>\n",
       "      <th>lon_CTR</th>\n",
       "      <th>geometry</th>\n",
       "    </tr>\n",
       "  </thead>\n",
       "  <tbody>\n",
       "    <tr>\n",
       "      <th>0</th>\n",
       "      <td>1</td>\n",
       "      <td>1</td>\n",
       "      <td>80.774791</td>\n",
       "      <td>3.210620</td>\n",
       "      <td>POLYGON ((5.42400 81.92300, 9.94700 80.30700, ...</td>\n",
       "    </tr>\n",
       "    <tr>\n",
       "      <th>1</th>\n",
       "      <td>1</td>\n",
       "      <td>2</td>\n",
       "      <td>80.021757</td>\n",
       "      <td>-4.274059</td>\n",
       "      <td>POLYGON ((-3.20700 81.20300, 2.30700 79.69900,...</td>\n",
       "    </tr>\n",
       "    <tr>\n",
       "      <th>2</th>\n",
       "      <td>1</td>\n",
       "      <td>3</td>\n",
       "      <td>79.129883</td>\n",
       "      <td>-10.647337</td>\n",
       "      <td>POLYGON ((-10.43200 80.32200, -4.40400 78.9360...</td>\n",
       "    </tr>\n",
       "    <tr>\n",
       "      <th>3</th>\n",
       "      <td>1</td>\n",
       "      <td>4</td>\n",
       "      <td>78.130377</td>\n",
       "      <td>-16.029408</td>\n",
       "      <td>POLYGON ((-16.40900 79.32000, -10.20700 78.048...</td>\n",
       "    </tr>\n",
       "    <tr>\n",
       "      <th>4</th>\n",
       "      <td>1</td>\n",
       "      <td>5</td>\n",
       "      <td>77.048078</td>\n",
       "      <td>-20.572231</td>\n",
       "      <td>POLYGON ((-21.35100 78.22700, -15.19300 77.061...</td>\n",
       "    </tr>\n",
       "    <tr>\n",
       "      <th>...</th>\n",
       "      <td>...</td>\n",
       "      <td>...</td>\n",
       "      <td>...</td>\n",
       "      <td>...</td>\n",
       "      <td>...</td>\n",
       "    </tr>\n",
       "    <tr>\n",
       "      <th>57778</th>\n",
       "      <td>233</td>\n",
       "      <td>244</td>\n",
       "      <td>81.352691</td>\n",
       "      <td>28.155956</td>\n",
       "      <td>POLYGON ((35.64600 81.84800, 30.97900 80.24500...</td>\n",
       "    </tr>\n",
       "    <tr>\n",
       "      <th>57779</th>\n",
       "      <td>233</td>\n",
       "      <td>245</td>\n",
       "      <td>81.718750</td>\n",
       "      <td>18.566867</td>\n",
       "      <td>POLYGON ((25.77700 82.38700, 22.59000 80.69100...</td>\n",
       "    </tr>\n",
       "    <tr>\n",
       "      <th>57780</th>\n",
       "      <td>233</td>\n",
       "      <td>246</td>\n",
       "      <td>81.844418</td>\n",
       "      <td>8.404287</td>\n",
       "      <td>POLYGON ((14.79400 82.68000, 13.57600 80.92900...</td>\n",
       "    </tr>\n",
       "    <tr>\n",
       "      <th>57781</th>\n",
       "      <td>233</td>\n",
       "      <td>247</td>\n",
       "      <td>81.718750</td>\n",
       "      <td>-1.758293</td>\n",
       "      <td>POLYGON ((3.34700 82.69600, 4.31400 80.94200, ...</td>\n",
       "    </tr>\n",
       "    <tr>\n",
       "      <th>57782</th>\n",
       "      <td>233</td>\n",
       "      <td>248</td>\n",
       "      <td>81.352691</td>\n",
       "      <td>-11.347382</td>\n",
       "      <td>POLYGON ((-7.73000 82.43500, -4.75100 80.73000...</td>\n",
       "    </tr>\n",
       "  </tbody>\n",
       "</table>\n",
       "<p>57783 rows × 5 columns</p>\n",
       "</div>"
      ],
      "text/plain": [
       "       path  row    lat_CTR    lon_CTR  \\\n",
       "0         1    1  80.774791   3.210620   \n",
       "1         1    2  80.021757  -4.274059   \n",
       "2         1    3  79.129883 -10.647337   \n",
       "3         1    4  78.130377 -16.029408   \n",
       "4         1    5  77.048078 -20.572231   \n",
       "...     ...  ...        ...        ...   \n",
       "57778   233  244  81.352691  28.155956   \n",
       "57779   233  245  81.718750  18.566867   \n",
       "57780   233  246  81.844418   8.404287   \n",
       "57781   233  247  81.718750  -1.758293   \n",
       "57782   233  248  81.352691 -11.347382   \n",
       "\n",
       "                                                geometry  \n",
       "0      POLYGON ((5.42400 81.92300, 9.94700 80.30700, ...  \n",
       "1      POLYGON ((-3.20700 81.20300, 2.30700 79.69900,...  \n",
       "2      POLYGON ((-10.43200 80.32200, -4.40400 78.9360...  \n",
       "3      POLYGON ((-16.40900 79.32000, -10.20700 78.048...  \n",
       "4      POLYGON ((-21.35100 78.22700, -15.19300 77.061...  \n",
       "...                                                  ...  \n",
       "57778  POLYGON ((35.64600 81.84800, 30.97900 80.24500...  \n",
       "57779  POLYGON ((25.77700 82.38700, 22.59000 80.69100...  \n",
       "57780  POLYGON ((14.79400 82.68000, 13.57600 80.92900...  \n",
       "57781  POLYGON ((3.34700 82.69600, 4.31400 80.94200, ...  \n",
       "57782  POLYGON ((-7.73000 82.43500, -4.75100 80.73000...  \n",
       "\n",
       "[57783 rows x 5 columns]"
      ]
     },
     "execution_count": 4,
     "metadata": {},
     "output_type": "execute_result"
    }
   ],
   "source": [
    "# Prepare LS8 corner data for query\n",
    "\n",
    "ls8 = pd.read_excel('./LS8_cornerPts.xlsx')\n",
    "geometry_collection = gen_ls8_geometries(ls8)\n",
    "ls8_gdf = gpd.GeoDataFrame(ls8, geometry=geometry_collection)\n",
    "ls8_gdf = ls8_gdf.drop(['lat_UL', 'lon_UL', 'lat_UR', 'lon_UR', 'lat_LL', 'lon_LL', 'lat_LR', 'lon_LR'], axis=1)\n",
    "ls8_gdf"
   ]
  },
  {
   "cell_type": "code",
   "execution_count": 5,
   "id": "unknown-photograph",
   "metadata": {
    "jupyter": {
     "source_hidden": true
    },
    "tags": []
   },
   "outputs": [],
   "source": [
    "# ==== fuction for querying Path/Row number\n",
    "\n",
    "def query_pathrow(point_geometry, polygon_data):\n",
    "    '''\n",
    "    Query the available LS8 Path/Row combinations for a given point in [lon, lat].\n",
    "    We use a two-step process:\n",
    "    (1) a ball tree search for all of the LS8 center points that are within 0.05 radians \n",
    "        (~2.85 degrees) from the query point.\n",
    "    (2) a point-in-polygon search using the results from (1). \n",
    "\n",
    "    input:\n",
    "        points_geometry: 2-element list showing [lon, lat]\n",
    "        polygon_data: the LS8 GeoDataFrame object\n",
    "    output:\n",
    "        selection_idx: index numbers for the right Path/Row.\n",
    "    '''\n",
    "    \n",
    "    # (1) Ball Tree\n",
    "    points = np.vstack((polygon_data.lon_CTR.values, polygon_data.lat_CTR.values)).T\n",
    "    points *= np.pi/180.\n",
    "    LSBall = BallTree(points, metric='haversine')\n",
    "    \n",
    "    q = np.array(point_geometry)\n",
    "    q *= np.pi/180.\n",
    "    if type(point_geometry) is Point:\n",
    "        pt = point_geometry\n",
    "    else:\n",
    "        pt = Point(point_geometry)\n",
    "    \n",
    "    pre_selection = LSBall.query_radius(q.reshape(1,-1), r=0.05, return_distance=False)\n",
    "    pre_selection_idx = pre_selection[0]\n",
    "    pre_selection_idx.sort()\n",
    "    polygon_pre_selection = polygon_data.loc[pre_selection_idx]\n",
    "    \n",
    "    # (2) Point-in-polygon\n",
    "    selection_idx = []\n",
    "    for idx, row in polygon_pre_selection.iterrows():\n",
    "        if pt.within(row.geometry):\n",
    "            selection_idx.append(idx)\n",
    "    \n",
    "    return selection_idx"
   ]
  },
  {
   "cell_type": "code",
   "execution_count": 6,
   "id": "varied-concentrate",
   "metadata": {},
   "outputs": [
    {
     "data": {
      "text/html": [
       "<div>\n",
       "<style scoped>\n",
       "    .dataframe tbody tr th:only-of-type {\n",
       "        vertical-align: middle;\n",
       "    }\n",
       "\n",
       "    .dataframe tbody tr th {\n",
       "        vertical-align: top;\n",
       "    }\n",
       "\n",
       "    .dataframe thead th {\n",
       "        text-align: right;\n",
       "    }\n",
       "</style>\n",
       "<table border=\"1\" class=\"dataframe\">\n",
       "  <thead>\n",
       "    <tr style=\"text-align: right;\">\n",
       "      <th></th>\n",
       "      <th>path</th>\n",
       "      <th>row</th>\n",
       "      <th>lat_CTR</th>\n",
       "      <th>lon_CTR</th>\n",
       "      <th>geometry</th>\n",
       "    </tr>\n",
       "  </thead>\n",
       "  <tbody>\n",
       "    <tr>\n",
       "      <th>1747</th>\n",
       "      <td>8</td>\n",
       "      <td>12</td>\n",
       "      <td>68.279631</td>\n",
       "      <td>-49.545762</td>\n",
       "      <td>POLYGON ((-50.91000 69.35600, -46.41400 68.660...</td>\n",
       "    </tr>\n",
       "    <tr>\n",
       "      <th>1994</th>\n",
       "      <td>9</td>\n",
       "      <td>11</td>\n",
       "      <td>69.606373</td>\n",
       "      <td>-49.402408</td>\n",
       "      <td>POLYGON ((-50.77700 70.69500, -46.05000 69.955...</td>\n",
       "    </tr>\n",
       "    <tr>\n",
       "      <th>2242</th>\n",
       "      <td>10</td>\n",
       "      <td>11</td>\n",
       "      <td>69.606373</td>\n",
       "      <td>-50.947472</td>\n",
       "      <td>POLYGON ((-52.32200 70.69500, -47.59500 69.955...</td>\n",
       "    </tr>\n",
       "    <tr>\n",
       "      <th>20071</th>\n",
       "      <td>81</td>\n",
       "      <td>233</td>\n",
       "      <td>69.606373</td>\n",
       "      <td>-48.123782</td>\n",
       "      <td>POLYGON ((-44.88600 69.19800, -49.35900 68.507...</td>\n",
       "    </tr>\n",
       "    <tr>\n",
       "      <th>20319</th>\n",
       "      <td>82</td>\n",
       "      <td>233</td>\n",
       "      <td>69.606373</td>\n",
       "      <td>-49.668847</td>\n",
       "      <td>POLYGON ((-46.43100 69.19800, -50.90400 68.507...</td>\n",
       "    </tr>\n",
       "    <tr>\n",
       "      <th>20566</th>\n",
       "      <td>83</td>\n",
       "      <td>232</td>\n",
       "      <td>68.279631</td>\n",
       "      <td>-49.525493</td>\n",
       "      <td>POLYGON ((-46.50100 67.84400, -50.76100 67.192...</td>\n",
       "    </tr>\n",
       "    <tr>\n",
       "      <th>20567</th>\n",
       "      <td>83</td>\n",
       "      <td>233</td>\n",
       "      <td>69.606373</td>\n",
       "      <td>-51.213911</td>\n",
       "      <td>POLYGON ((-47.97600 69.19800, -52.44900 68.507...</td>\n",
       "    </tr>\n",
       "    <tr>\n",
       "      <th>20814</th>\n",
       "      <td>84</td>\n",
       "      <td>232</td>\n",
       "      <td>68.279631</td>\n",
       "      <td>-51.070557</td>\n",
       "      <td>POLYGON ((-48.04600 67.84400, -52.30600 67.192...</td>\n",
       "    </tr>\n",
       "  </tbody>\n",
       "</table>\n",
       "</div>"
      ],
      "text/plain": [
       "       path  row    lat_CTR    lon_CTR  \\\n",
       "1747      8   12  68.279631 -49.545762   \n",
       "1994      9   11  69.606373 -49.402408   \n",
       "2242     10   11  69.606373 -50.947472   \n",
       "20071    81  233  69.606373 -48.123782   \n",
       "20319    82  233  69.606373 -49.668847   \n",
       "20566    83  232  68.279631 -49.525493   \n",
       "20567    83  233  69.606373 -51.213911   \n",
       "20814    84  232  68.279631 -51.070557   \n",
       "\n",
       "                                                geometry  \n",
       "1747   POLYGON ((-50.91000 69.35600, -46.41400 68.660...  \n",
       "1994   POLYGON ((-50.77700 70.69500, -46.05000 69.955...  \n",
       "2242   POLYGON ((-52.32200 70.69500, -47.59500 69.955...  \n",
       "20071  POLYGON ((-44.88600 69.19800, -49.35900 68.507...  \n",
       "20319  POLYGON ((-46.43100 69.19800, -50.90400 68.507...  \n",
       "20566  POLYGON ((-46.50100 67.84400, -50.76100 67.192...  \n",
       "20567  POLYGON ((-47.97600 69.19800, -52.44900 68.507...  \n",
       "20814  POLYGON ((-48.04600 67.84400, -52.30600 67.192...  "
      ]
     },
     "execution_count": 6,
     "metadata": {},
     "output_type": "execute_result"
    }
   ],
   "source": [
    "query_pt = [-50., 69.]\n",
    "idx = query_pathrow(query_pt, ls8_gdf)\n",
    "ls8_gdf.loc[idx]"
   ]
  },
  {
   "cell_type": "code",
   "execution_count": 7,
   "id": "outdoor-diamond",
   "metadata": {
    "jupyter": {
     "source_hidden": true
    },
    "tags": []
   },
   "outputs": [],
   "source": [
    "# !aws s3 ls s3://landsat-pds/c1/L8/217/015/ --no-sign-request\n",
    "\n",
    "# STAC category is possible!!? (for sentinel-2)\n",
    "\n",
    "def search_ls8_s3(ls8_gdf, pr_idx):\n",
    "    s3_pathrow = '{:03d}/{:03d}'.format(ls8_gdf.loc[pr_idx].path, ls8_gdf.loc[pr_idx].row)\n",
    "    s3_prefix = 'c1/L8/' + s3_pathrow + '/LC08_L1TP_'\n",
    "    # print(s3_prefix)\n",
    "    \n",
    "    # according to https://github.com/boto/boto3/issues/1200\n",
    "    s3 = boto3.client('s3', region_name='us-west-2', config=botocore.config.Config(signature_version=botocore.UNSIGNED))\n",
    "    \n",
    "    # https://towardsdatascience.com/working-with-amazon-s3-buckets-with-boto3-785252ea22e0\n",
    "    response = s3.list_objects_v2(Bucket=\"landsat-pds\", MaxKeys=1000, Prefix=s3_prefix, Delimiter='/')\n",
    "    \n",
    "    scene_list = pd.DataFrame(columns=('prefix', 'time', 'tier'))\n",
    "    scene_idx = 0\n",
    "\n",
    "    if response.get('CommonPrefixes') is None:\n",
    "        # print('No available scenes!')\n",
    "        pass\n",
    "    else:\n",
    "        for scene in response.get('CommonPrefixes'):\n",
    "            scene_prefix = scene.get('Prefix')\n",
    "            # print(scene.get('Prefix'))\n",
    "            timestamp = scene_prefix.split('_')[3]\n",
    "            timestamp = datetime.strptime(timestamp, '%Y%m%d')\n",
    "            timestamp = timestamp.date()\n",
    "            tierstate = scene_prefix.split('_')[6][:-1]\n",
    "            # print(timestamp, tierstate)\n",
    "            scene_list.loc[scene_idx] = [scene_prefix, timestamp,  tierstate]\n",
    "            scene_idx += 1\n",
    "    \n",
    "    return s3_prefix, scene_list"
   ]
  },
  {
   "cell_type": "code",
   "execution_count": 8,
   "id": "wrong-facial",
   "metadata": {},
   "outputs": [],
   "source": [
    "def carst_featuretrack(file1_url, file1_date, file2_url, file2_date, inipath='param.ini'):\n",
    "    a = SingleRaster(file1_url, date=file1_date)\n",
    "    b = SingleRaster(file2_url, date=file2_date)\n",
    "    a.AmpcorPrep()\n",
    "    b.AmpcorPrep()\n",
    "    ini = ConfParams(inipath)\n",
    "    ini.ReadParam()\n",
    "    ini.imagepair['image1'] = file1_url\n",
    "    ini.imagepair['image2'] = file2_url\n",
    "    ini.imagepair['image1_date'] = file1_date\n",
    "    ini.imagepair['image2_date'] = file2_date\n",
    "    ini.VerifyParam()\n",
    "    task = ampcor_task([a, b], ini)\n",
    "    writeout_ampcor_task(task, ini)\n",
    "    ampoff = AmpcoroffFile(ini.rawoutput['label_ampcor'] + '.p')\n",
    "    ampoff.Load()\n",
    "    ampoff.SetIni(ini)\n",
    "    ampoff.FillwithNAN()   # fill holes with nan\n",
    "    ampoff.Ampcoroff2Velo()\n",
    "    ampoff.Velo2XYV(generate_xyztext=ini.rawoutput['if_generate_xyztext'])\n",
    "    ampoff.XYV2Raster()"
   ]
  },
  {
   "cell_type": "code",
   "execution_count": 11,
   "id": "indoor-beast",
   "metadata": {},
   "outputs": [
    {
     "data": {
      "application/vnd.jupyter.widget-view+json": {
       "model_id": "c3a7491a12cd479db6d16ce3d8524e22",
       "version_major": 2,
       "version_minor": 0
      },
      "text/plain": [
       "AppLayout(children=(VBox(children=(HTML(value='<h2>Drag the marker to your region of interest</h1>'), Select(d…"
      ]
     },
     "metadata": {},
     "output_type": "display_data"
    }
   ],
   "source": [
    "# Adapted from Alice's AGU talk\n",
    "zoom = 4\n",
    "mainmap = ilfl.Map(basemap=ilfl.basemaps.Gaode.Satellite, center=[query_pt[-1], query_pt[0]], zoom=zoom)\n",
    "\n",
    "mker = ilfl.Marker(location=[query_pt[-1], query_pt[0]], draggable=True)\n",
    "mainmap.add_layer(mker)\n",
    "\n",
    "pr_options = [('{:03d}/{:03d}'.format(ls8_gdf.loc[i, 'path'], ls8_gdf.loc[i, 'row']) ,i) for i in idx]\n",
    "pr_menu = iwg.Select(options=pr_options, description='Path/Row:', rows=15)\n",
    "pr_scene_options = []\n",
    "pr_scene_menu = iwg.SelectMultiple(options=pr_scene_options, description='Available dates:', rows=20)\n",
    "pr_kernel_selection = iwg.RadioButtons(options=['ITS_LIVE (online ready)', 'CARST'], value='ITS_LIVE (online ready)', description='Dataset / Kernel:')\n",
    "pr_scene_button = iwg.Button(description='Search for dates')\n",
    "\n",
    "\n",
    "band_radiobuttons = iwg.RadioButtons(options=['B4', 'B8'], value='B8', description='Band:')\n",
    "ft_start_button = iwg.Button(description='Start feature tracking')\n",
    "\n",
    "pr_selection = idx[0]\n",
    "pr_scene_list = pd.DataFrame(columns=('prefix', 'time', 'tier'))\n",
    "pr_polygon = ilfl.WKTLayer(wkt_string=ls8_gdf.loc[pr_selection].geometry.wkt)\n",
    "mainmap.add_layer(pr_polygon)\n",
    "\n",
    "# ==== map marker callback\n",
    "\n",
    "def on_location_changed(event):\n",
    "    global query_pt, idx\n",
    "    query_pt = [mker.location[-1], mker.location[0]]\n",
    "    idx = query_pathrow(query_pt, ls8_gdf)\n",
    "    pr_options_new = [('{:03d}/{:03d}'.format(ls8_gdf.loc[i, 'path'], ls8_gdf.loc[i, 'row']) ,i) for i in idx]\n",
    "    pr_menu.options = pr_options_new\n",
    "\n",
    "mker.observe(on_location_changed, 'location')\n",
    "\n",
    "# ==== left side menu selection callback\n",
    "\n",
    "def on_menu_selection_changed(change):\n",
    "    global pr_selection\n",
    "    pr_selection = change['new']\n",
    "    pr_polygon.wkt_string=ls8_gdf.loc[pr_selection].geometry.wkt\n",
    "\n",
    "pr_menu.observe(on_menu_selection_changed, names='value')\n",
    "\n",
    "# ==== search button click callback\n",
    "\n",
    "output = iwg.Output()\n",
    "def on_searchbutton_clicked(b):\n",
    "    global pr_scene_list\n",
    "    with output:\n",
    "        s3_prefix, pr_scene_list = search_ls8_s3(ls8_gdf, pr_selection)\n",
    "        # print(s3_prefix)\n",
    "        pr_scene_menu.options = [(record['time'], idx) for idx, record in pr_scene_list.loc[pr_scene_list['tier'] == 'T1'].iterrows()]\n",
    "\n",
    "pr_scene_button.on_click(on_searchbutton_clicked)\n",
    "\n",
    "# ==== feature tracking button click callback\n",
    "\n",
    "file1_url  = None \n",
    "file1_date = None \n",
    "file2_url  = None \n",
    "file2_date = None\n",
    "\n",
    "def on_ftbutton_clicked(ft):\n",
    "    global file1_url, file1_date, file2_url, file2_date\n",
    "    with output:\n",
    "        selected_list = pr_scene_list.loc[list(pr_scene_menu.value)]\n",
    "        selected_list_prefix = selected_list['prefix'].tolist()\n",
    "        selected_list_time = selected_list['time'].tolist()\n",
    "        file1_url = 'https://landsat-pds.s3.amazonaws.com/' + selected_list_prefix[0] + os.path.basename(selected_list_prefix[0][:-1]) + '_' + band_radiobuttons.value + '.TIF'\n",
    "        file2_url = 'https://landsat-pds.s3.amazonaws.com/' + selected_list_prefix[1] + os.path.basename(selected_list_prefix[1][:-1]) + '_' + band_radiobuttons.value + '.TIF'\n",
    "        file1_date = selected_list_time[0].strftime('%Y-%m-%d')\n",
    "        file2_date = selected_list_time[1].strftime('%Y-%m-%d')\n",
    "        print(file1_url, file1_date, file2_url, file2_date)\n",
    "        carst_featuretrack(file1_url, file1_date, file2_url, file2_date)\n",
    "\n",
    "ft_start_button.on_click(on_ftbutton_clicked)\n",
    "\n",
    "\n",
    "\n",
    "leftside = iwg.VBox([iwg.HTML(\"<h2>Drag the marker to your region of interest</h1>\"), pr_menu, pr_kernel_selection, pr_scene_button])\n",
    "leftside.layout.align_items = 'center'\n",
    "\n",
    "rightside = iwg.VBox([pr_scene_menu, band_radiobuttons, ft_start_button])\n",
    "rightside.layout.align_items = 'center'\n",
    "\n",
    "iwg.AppLayout(left_sidebar=leftside, center=mainmap, right_sidebar=rightside)\n"
   ]
  },
  {
   "cell_type": "code",
   "execution_count": 13,
   "id": "young-lender",
   "metadata": {},
   "outputs": [
    {
     "data": {
      "application/vnd.jupyter.widget-view+json": {
       "model_id": "2e758f4b0bfb486e92bd7175b01ad3a7",
       "version_major": 2,
       "version_minor": 0
      },
      "text/plain": [
       "Output(outputs=({'name': 'stdout', 'text': 'https://landsat-pds.s3.amazonaws.com/c1/L8/009/011/LC08_L1TP_00901…"
      ]
     },
     "metadata": {},
     "output_type": "display_data"
    }
   ],
   "source": [
    "output"
   ]
  },
  {
   "cell_type": "code",
   "execution_count": 11,
   "id": "bigger-marble",
   "metadata": {},
   "outputs": [
    {
     "name": "stdout",
     "output_type": "stream",
     "text": [
      "https://landsat-pds.s3.amazonaws.com/c1/L8/009/011/LC08_L1TP_009011_20180916_20180928_01_T1/LC08_L1TP_009011_20180916_20180928_01_T1_B8.TIF 2018-09-16 https://landsat-pds.s3.amazonaws.com/c1/L8/009/011/LC08_L1TP_009011_20181002_20181010_01_T1/LC08_L1TP_009011_20181002_20181010_01_T1_B8.TIF 2018-10-02\n"
     ]
    }
   ],
   "source": [
    "print(file1_url, file1_date, file2_url, file2_date)"
   ]
  },
  {
   "cell_type": "code",
   "execution_count": 12,
   "id": "exterior-twelve",
   "metadata": {},
   "outputs": [],
   "source": [
    "# carst_featuretrack(file1_url, file1_date, file2_url, file2_date)"
   ]
  },
  {
   "cell_type": "code",
   "execution_count": 13,
   "id": "african-puppy",
   "metadata": {},
   "outputs": [
    {
     "data": {
      "text/plain": [
       "[69.0, -50.0]"
      ]
     },
     "execution_count": 13,
     "metadata": {},
     "output_type": "execute_result"
    }
   ],
   "source": [
    "mker.location"
   ]
  },
  {
   "cell_type": "code",
   "execution_count": null,
   "id": "specified-speed",
   "metadata": {},
   "outputs": [],
   "source": []
  },
  {
   "cell_type": "code",
   "execution_count": null,
   "id": "suffering-sherman",
   "metadata": {},
   "outputs": [],
   "source": [
    "pr_scene_list.loc[5, 'time'].strftime('%Y-%m-%d')"
   ]
  },
  {
   "cell_type": "code",
   "execution_count": null,
   "id": "little-victor",
   "metadata": {},
   "outputs": [],
   "source": []
  },
  {
   "cell_type": "code",
   "execution_count": null,
   "id": "fantastic-roommate",
   "metadata": {},
   "outputs": [],
   "source": []
  },
  {
   "cell_type": "code",
   "execution_count": null,
   "id": "unlikely-discharge",
   "metadata": {},
   "outputs": [],
   "source": []
  },
  {
   "cell_type": "code",
   "execution_count": 100,
   "id": "another-albania",
   "metadata": {},
   "outputs": [],
   "source": [
    "# response = s3.list_objects_v2(Bucket=\"landsat-pds\", MaxKeys=1000, Prefix='c1/L8/009/011/LC08_L1TP_009011_20200703_20200708_01_T1/LC08_L1TP_009011_20200703_20200708_01_T1_B4.TIF')\n",
    "# for record in response['Contents']:\n",
    "#     if record['Key'].endswith('.TIF'):\n",
    "#         file1 = 'https://landsat-pds.s3.amazonaws.com/' + record['Key']\n",
    "        \n",
    "# response = s3.list_objects_v2(Bucket=\"landsat-pds\", MaxKeys=1000, Prefix='c1/L8/009/011/LC08_L1TP_009011_20200820_20200905_01_T1/LC08_L1TP_009011_20200820_20200905_01_T1_B4.TIF')\n",
    "# for record in response['Contents']:\n",
    "#     if record['Key'].endswith('.TIF'):\n",
    "#         file2 = 'https://landsat-pds.s3.amazonaws.com/' + record['Key']\n",
    "        \n",
    "# print(file1, file2)"
   ]
  },
  {
   "cell_type": "code",
   "execution_count": null,
   "id": "specialized-captain",
   "metadata": {},
   "outputs": [],
   "source": [
    "\n"
   ]
  },
  {
   "cell_type": "code",
   "execution_count": null,
   "id": "private-moldova",
   "metadata": {},
   "outputs": [],
   "source": []
  },
  {
   "cell_type": "code",
   "execution_count": 15,
   "id": "suspended-tattoo",
   "metadata": {},
   "outputs": [
    {
     "name": "stdout",
     "output_type": "stream",
     "text": [
      "Calling gdalbuildvrt...\n",
      "gdalbuildvrt LC08_L1TP_009011_20180916_20180928_01_T1_B8_GHP-3.0sig.tif.vrt LC08_L1TP_009011_20180916_20180928_01_T1_B8_GHP-3.0sig.tif\n",
      "Calling gdalbuildvrt...\n",
      "gdalbuildvrt LC08_L1TP_009011_20181002_20181010_01_T1_B8_GHP-3.0sig.tif.vrt LC08_L1TP_009011_20181002_20181010_01_T1_B8_GHP-3.0sig.tif\n"
     ]
    }
   ],
   "source": [
    "a = SingleRaster(file1_url, date=file1_date)\n",
    "b = SingleRaster(file2_url, date=file2_date)\n",
    "if ini.pxsettings['gaussian_hp']:\n",
    "    a.GaussianHighPass(sigma=ini.pxsettings['gaussian_hp_sigma'])\n",
    "    b.GaussianHighPass(sigma=ini.pxsettings['gaussian_hp_sigma'])\n",
    "a.AmpcorPrep()\n",
    "b.AmpcorPrep()"
   ]
  },
  {
   "cell_type": "code",
   "execution_count": 14,
   "id": "spectacular-approval",
   "metadata": {},
   "outputs": [],
   "source": [
    "inipath = 'param.ini'\n",
    "ini = ConfParams(inipath)\n",
    "ini.ReadParam()\n",
    "ini.imagepair['image1'] = file1_url\n",
    "ini.imagepair['image2'] = file2_url\n",
    "ini.imagepair['image1_date'] = file1_date\n",
    "ini.imagepair['image2_date'] = file2_date\n",
    "ini.VerifyParam()"
   ]
  },
  {
   "cell_type": "code",
   "execution_count": 16,
   "id": "rising-patch",
   "metadata": {},
   "outputs": [
    {
     "name": "stdout",
     "output_type": "stream",
     "text": [
      "Scale Factor in Range: Scale Factor in Range: Scale Factor in Range:    Scale Factor in Range: 1.0 Scale Factor in Range: 1.01.0\n",
      "\n",
      "\n",
      "1.0Scale Factor in Azimuth: Scale Factor in Range:  Scale Factor in Azimuth: Scale Factor in Range: \n",
      " Scale Factor in Azimuth:    1.0Scale Factor in Azimuth:  1.0 1.01.01.0\n",
      "\n",
      "1.0\n",
      "\n",
      "Scale Factor in Azimuth: Skip Sample Down: 16\n",
      "\n",
      "Scale Factor in Azimuth: Skip Sample Down: 161.0 \n",
      "Scale Factor in Azimuth:  Skip Sample Down: 16\n",
      "\n",
      "1.01.0\n",
      "Skip Sample Down: 16\n",
      "\n",
      "Skip Sample Across: 16Skip Sample Across: 16Skip Sample Across: 16Skip Sample Down: 16 Skip Sample Down: 16\n",
      "\n",
      "\n",
      "\n",
      "1.0Skip Sample Across: 16Skip Sample Across: 16Skip Sample Across: 16\n",
      "\n",
      "\n",
      "\n",
      "\n",
      "\n",
      "Skip Sample Down: 16\n",
      "Skip Sample Across: 16\n",
      "Scale Factor in Range:  1.0\n",
      "Scale Factor in Azimuth:  1.0\n",
      "Skip Sample Down: 16\n",
      "Skip Sample Across: 16\n"
     ]
    }
   ],
   "source": [
    "task = ampcor_task([a, b], ini)\n",
    "writeout_ampcor_task(task, ini)"
   ]
  },
  {
   "cell_type": "code",
   "execution_count": 17,
   "id": "sitting-universe",
   "metadata": {},
   "outputs": [],
   "source": [
    "ampoff = AmpcoroffFile(ini.rawoutput['label_ampcor'] + '.p')\n",
    "ampoff.Load()\n",
    "ampoff.SetIni(ini)\n",
    "ampoff.FillwithNAN()   # fill holes with nan\n",
    "ampoff.Ampcoroff2Velo()\n",
    "ampoff.Velo2XYV(generate_xyztext=ini.rawoutput['if_generate_xyztext'])\n",
    "ampoff.XYV2Raster()"
   ]
  },
  {
   "cell_type": "code",
   "execution_count": 2,
   "id": "communist-nicaragua",
   "metadata": {},
   "outputs": [],
   "source": []
  },
  {
   "cell_type": "code",
   "execution_count": 35,
   "id": "stainless-living",
   "metadata": {},
   "outputs": [
    {
     "data": {
      "image/png": "[encoded data removed]",
      "text/plain": [
       "<Figure size 432x288 with 1 Axes>"
      ]
     },
     "metadata": {
      "needs_background": "light"
     },
     "output_type": "display_data"
    },
    {
     "data": {
      "text/plain": [
       "<AxesSubplot:>"
      ]
     },
     "execution_count": 35,
     "metadata": {},
     "output_type": "execute_result"
    }
   ],
   "source": [
    "file1_url = 'https://landsat-pds.s3.amazonaws.com/c1/L8/009/011/LC08_L1TP_009011_20200703_20200708_01_T1/LC08_L1TP_009011_20200703_20200708_01_T1_B4.TIF'\n",
    "dataset = rasterio.open(file1_url)\n",
    "show(dataset)"
   ]
  },
  {
   "cell_type": "code",
   "execution_count": 20,
   "id": "national-moderator",
   "metadata": {},
   "outputs": [
    {
     "data": {
      "image/png": "[encoded data removed]",
      "text/plain": [
       "<Figure size 432x288 with 1 Axes>"
      ]
     },
     "metadata": {
      "needs_background": "light"
     },
     "output_type": "display_data"
    },
    {
     "data": {
      "text/plain": [
       "<AxesSubplot:>"
      ]
     },
     "execution_count": 20,
     "metadata": {},
     "output_type": "execute_result"
    }
   ],
   "source": [
    "dataset = rasterio.open('20200703-20200820_velo-raw_mag.tif')\n",
    "show(dataset)"
   ]
  },
  {
   "cell_type": "code",
   "execution_count": 19,
   "id": "encouraging-emperor",
   "metadata": {},
   "outputs": [
    {
     "data": {
      "image/png": "[encoded data removed]",
      "text/plain": [
       "<Figure size 432x288 with 1 Axes>"
      ]
     },
     "metadata": {
      "needs_background": "light"
     },
     "output_type": "display_data"
    },
    {
     "data": {
      "text/plain": [
       "<AxesSubplot:>"
      ]
     },
     "execution_count": 19,
     "metadata": {},
     "output_type": "execute_result"
    }
   ],
   "source": [
    "dataset = rasterio.open('20180916-20181002_velo-raw_mag.tif')\n",
    "show(dataset)"
   ]
  },
  {
   "cell_type": "code",
   "execution_count": null,
   "id": "coral-alliance",
   "metadata": {},
   "outputs": [],
   "source": []
  }
 ],
 "metadata": {
  "kernelspec": {
   "display_name": "Python 3",
   "language": "python",
   "name": "python3"
  },
  "language_info": {
   "codemirror_mode": {
    "name": "ipython",
    "version": 3
   },
   "file_extension": ".py",
   "mimetype": "text/x-python",
   "name": "python",
   "nbconvert_exporter": "python",
   "pygments_lexer": "ipython3",
   "version": "3.9.2"
  }
 },
 "nbformat": 4,
 "nbformat_minor": 5
}
