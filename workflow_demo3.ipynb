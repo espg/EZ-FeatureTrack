{
 "cells": [
  {
   "cell_type": "code",
   "execution_count": 1,
   "id": "distributed-village",
   "metadata": {},
   "outputs": [],
   "source": [
    "%load_ext autoreload\n",
    "%autoreload 2"
   ]
  },
  {
   "cell_type": "code",
   "execution_count": 9,
   "id": "developing-chain",
   "metadata": {},
   "outputs": [],
   "source": [
    "from geostacks import SpatialIndexLS8"
   ]
  },
  {
   "cell_type": "code",
   "execution_count": 10,
   "id": "authentic-african",
   "metadata": {},
   "outputs": [],
   "source": [
    "ls8_index = SpatialIndexLS8('./LS8_cornerPts.xlsx')\n",
    "ls8_index.read()\n",
    "# ls8_index.footprint"
   ]
  },
  {
   "cell_type": "code",
   "execution_count": 11,
   "id": "desperate-revolution",
   "metadata": {},
   "outputs": [
    {
     "data": {
      "text/html": [
       "<div>\n",
       "<style scoped>\n",
       "    .dataframe tbody tr th:only-of-type {\n",
       "        vertical-align: middle;\n",
       "    }\n",
       "\n",
       "    .dataframe tbody tr th {\n",
       "        vertical-align: top;\n",
       "    }\n",
       "\n",
       "    .dataframe thead th {\n",
       "        text-align: right;\n",
       "    }\n",
       "</style>\n",
       "<table border=\"1\" class=\"dataframe\">\n",
       "  <thead>\n",
       "    <tr style=\"text-align: right;\">\n",
       "      <th></th>\n",
       "      <th>path</th>\n",
       "      <th>row</th>\n",
       "      <th>lat_CTR</th>\n",
       "      <th>lon_CTR</th>\n",
       "      <th>geometry</th>\n",
       "    </tr>\n",
       "  </thead>\n",
       "  <tbody>\n",
       "    <tr>\n",
       "      <th>1747</th>\n",
       "      <td>8</td>\n",
       "      <td>12</td>\n",
       "      <td>68.279631</td>\n",
       "      <td>-49.545762</td>\n",
       "      <td>POLYGON ((-50.91000 69.35600, -46.41400 68.660...</td>\n",
       "    </tr>\n",
       "    <tr>\n",
       "      <th>1994</th>\n",
       "      <td>9</td>\n",
       "      <td>11</td>\n",
       "      <td>69.606373</td>\n",
       "      <td>-49.402408</td>\n",
       "      <td>POLYGON ((-50.77700 70.69500, -46.05000 69.955...</td>\n",
       "    </tr>\n",
       "    <tr>\n",
       "      <th>2242</th>\n",
       "      <td>10</td>\n",
       "      <td>11</td>\n",
       "      <td>69.606373</td>\n",
       "      <td>-50.947472</td>\n",
       "      <td>POLYGON ((-52.32200 70.69500, -47.59500 69.955...</td>\n",
       "    </tr>\n",
       "    <tr>\n",
       "      <th>20071</th>\n",
       "      <td>81</td>\n",
       "      <td>233</td>\n",
       "      <td>69.606373</td>\n",
       "      <td>-48.123782</td>\n",
       "      <td>POLYGON ((-44.88600 69.19800, -49.35900 68.507...</td>\n",
       "    </tr>\n",
       "    <tr>\n",
       "      <th>20319</th>\n",
       "      <td>82</td>\n",
       "      <td>233</td>\n",
       "      <td>69.606373</td>\n",
       "      <td>-49.668847</td>\n",
       "      <td>POLYGON ((-46.43100 69.19800, -50.90400 68.507...</td>\n",
       "    </tr>\n",
       "    <tr>\n",
       "      <th>20566</th>\n",
       "      <td>83</td>\n",
       "      <td>232</td>\n",
       "      <td>68.279631</td>\n",
       "      <td>-49.525493</td>\n",
       "      <td>POLYGON ((-46.50100 67.84400, -50.76100 67.192...</td>\n",
       "    </tr>\n",
       "    <tr>\n",
       "      <th>20567</th>\n",
       "      <td>83</td>\n",
       "      <td>233</td>\n",
       "      <td>69.606373</td>\n",
       "      <td>-51.213911</td>\n",
       "      <td>POLYGON ((-47.97600 69.19800, -52.44900 68.507...</td>\n",
       "    </tr>\n",
       "    <tr>\n",
       "      <th>20814</th>\n",
       "      <td>84</td>\n",
       "      <td>232</td>\n",
       "      <td>68.279631</td>\n",
       "      <td>-51.070557</td>\n",
       "      <td>POLYGON ((-48.04600 67.84400, -52.30600 67.192...</td>\n",
       "    </tr>\n",
       "  </tbody>\n",
       "</table>\n",
       "</div>"
      ],
      "text/plain": [
       "       path  row    lat_CTR    lon_CTR  \\\n",
       "1747      8   12  68.279631 -49.545762   \n",
       "1994      9   11  69.606373 -49.402408   \n",
       "2242     10   11  69.606373 -50.947472   \n",
       "20071    81  233  69.606373 -48.123782   \n",
       "20319    82  233  69.606373 -49.668847   \n",
       "20566    83  232  68.279631 -49.525493   \n",
       "20567    83  233  69.606373 -51.213911   \n",
       "20814    84  232  68.279631 -51.070557   \n",
       "\n",
       "                                                geometry  \n",
       "1747   POLYGON ((-50.91000 69.35600, -46.41400 68.660...  \n",
       "1994   POLYGON ((-50.77700 70.69500, -46.05000 69.955...  \n",
       "2242   POLYGON ((-52.32200 70.69500, -47.59500 69.955...  \n",
       "20071  POLYGON ((-44.88600 69.19800, -49.35900 68.507...  \n",
       "20319  POLYGON ((-46.43100 69.19800, -50.90400 68.507...  \n",
       "20566  POLYGON ((-46.50100 67.84400, -50.76100 67.192...  \n",
       "20567  POLYGON ((-47.97600 69.19800, -52.44900 68.507...  \n",
       "20814  POLYGON ((-48.04600 67.84400, -52.30600 67.192...  "
      ]
     },
     "execution_count": 11,
     "metadata": {},
     "output_type": "execute_result"
    }
   ],
   "source": [
    "query_pt = [-50., 69.]\n",
    "idx = ls8_index.query_pathrow(query_pt)\n",
    "ls8_index.footprint.loc[idx]"
   ]
  },
  {
   "cell_type": "code",
   "execution_count": null,
   "id": "legal-silicon",
   "metadata": {},
   "outputs": [],
   "source": []
  }
 ],
 "metadata": {
  "kernelspec": {
   "display_name": "Python 3",
   "language": "python",
   "name": "python3"
  },
  "language_info": {
   "codemirror_mode": {
    "name": "ipython",
    "version": 3
   },
   "file_extension": ".py",
   "mimetype": "text/x-python",
   "name": "python",
   "nbconvert_exporter": "python",
   "pygments_lexer": "ipython3",
   "version": "3.9.2"
  }
 },
 "nbformat": 4,
 "nbformat_minor": 5
}
